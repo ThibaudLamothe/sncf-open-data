{
 "cells": [
  {
   "cell_type": "markdown",
   "metadata": {},
   "source": [
    "# Making imports"
   ]
  },
  {
   "cell_type": "markdown",
   "metadata": {},
   "source": [
    "https://pypi.org/project/geopy/"
   ]
  },
  {
   "cell_type": "code",
   "execution_count": 1,
   "metadata": {
    "ExecuteTime": {
     "end_time": "2019-10-20T13:47:06.929120Z",
     "start_time": "2019-10-20T13:47:06.889288Z"
    }
   },
   "outputs": [],
   "source": [
    "import geopy\n",
    "from geopy.geocoders import Nominatim"
   ]
  },
  {
   "cell_type": "code",
   "execution_count": 15,
   "metadata": {
    "ExecuteTime": {
     "end_time": "2019-10-20T13:55:50.677386Z",
     "start_time": "2019-10-20T13:55:50.655263Z"
    }
   },
   "outputs": [],
   "source": [
    "import utils as f\n",
    "import pandas as pd"
   ]
  },
  {
   "cell_type": "markdown",
   "metadata": {},
   "source": [
    "# Loading data"
   ]
  },
  {
   "cell_type": "code",
   "execution_count": 16,
   "metadata": {
    "ExecuteTime": {
     "end_time": "2019-10-20T13:55:51.571604Z",
     "start_time": "2019-10-20T13:55:51.459141Z"
    }
   },
   "outputs": [],
   "source": [
    "file_name = 'regularite-mensuelle-tgv-aqst.csv'\n",
    "file_path = f.DATA_PATH + 'csv/' + file_name\n",
    "df = pd.read_csv(file_path, sep=';')"
   ]
  },
  {
   "cell_type": "code",
   "execution_count": 17,
   "metadata": {
    "ExecuteTime": {
     "end_time": "2019-10-20T13:55:52.643282Z",
     "start_time": "2019-10-20T13:55:52.592614Z"
    }
   },
   "outputs": [
    {
     "data": {
      "text/html": [
       "<div>\n",
       "<style scoped>\n",
       "    .dataframe tbody tr th:only-of-type {\n",
       "        vertical-align: middle;\n",
       "    }\n",
       "\n",
       "    .dataframe tbody tr th {\n",
       "        vertical-align: top;\n",
       "    }\n",
       "\n",
       "    .dataframe thead th {\n",
       "        text-align: right;\n",
       "    }\n",
       "</style>\n",
       "<table border=\"1\" class=\"dataframe\">\n",
       "  <thead>\n",
       "    <tr style=\"text-align: right;\">\n",
       "      <th></th>\n",
       "      <th>Année</th>\n",
       "      <th>Mois</th>\n",
       "      <th>Service</th>\n",
       "      <th>Gare de départ</th>\n",
       "      <th>Gare d'arrivée</th>\n",
       "      <th>Durée moyenne du trajet (min)</th>\n",
       "      <th>Nombre de circulations prévues</th>\n",
       "      <th>Nombre de trains annulés</th>\n",
       "      <th>Commentaire (facultatif) annulations</th>\n",
       "      <th>Nombre de trains en retard au départ</th>\n",
       "      <th>...</th>\n",
       "      <th>Retard moyen trains en retard &gt; 15min</th>\n",
       "      <th>Nombre trains en retard &gt; 30min</th>\n",
       "      <th>Nombre trains en retard &gt; 60min</th>\n",
       "      <th>Période</th>\n",
       "      <th>Retard pour causes externes</th>\n",
       "      <th>Retard à cause infrastructure ferroviaire</th>\n",
       "      <th>Retard à cause gestion trafic</th>\n",
       "      <th>Retard à cause matériel roulant</th>\n",
       "      <th>Retard à cause gestion en gare et réutilisation de matériel</th>\n",
       "      <th>Retard à cause prise en compte voyageurs</th>\n",
       "    </tr>\n",
       "  </thead>\n",
       "  <tbody>\n",
       "    <tr>\n",
       "      <th>0</th>\n",
       "      <td>2018</td>\n",
       "      <td>3.0</td>\n",
       "      <td>NaN</td>\n",
       "      <td>STRASBOURG</td>\n",
       "      <td>PARIS EST</td>\n",
       "      <td>112.402439</td>\n",
       "      <td>505.0</td>\n",
       "      <td>13.0</td>\n",
       "      <td>NaN</td>\n",
       "      <td>250.0</td>\n",
       "      <td>...</td>\n",
       "      <td>5.754031</td>\n",
       "      <td>26.0</td>\n",
       "      <td>6.0</td>\n",
       "      <td>2018-03</td>\n",
       "      <td>37.662338</td>\n",
       "      <td>15.584416</td>\n",
       "      <td>19.480519</td>\n",
       "      <td>16.883117</td>\n",
       "      <td>6.493506</td>\n",
       "      <td>3.896104</td>\n",
       "    </tr>\n",
       "    <tr>\n",
       "      <th>1</th>\n",
       "      <td>2018</td>\n",
       "      <td>3.0</td>\n",
       "      <td>NaN</td>\n",
       "      <td>PARIS NORD</td>\n",
       "      <td>DUNKERQUE</td>\n",
       "      <td>120.996310</td>\n",
       "      <td>285.0</td>\n",
       "      <td>14.0</td>\n",
       "      <td>NaN</td>\n",
       "      <td>65.0</td>\n",
       "      <td>...</td>\n",
       "      <td>6.697417</td>\n",
       "      <td>19.0</td>\n",
       "      <td>7.0</td>\n",
       "      <td>2018-03</td>\n",
       "      <td>30.769231</td>\n",
       "      <td>17.948718</td>\n",
       "      <td>15.384615</td>\n",
       "      <td>33.333333</td>\n",
       "      <td>2.564103</td>\n",
       "      <td>0.000000</td>\n",
       "    </tr>\n",
       "    <tr>\n",
       "      <th>2</th>\n",
       "      <td>2018</td>\n",
       "      <td>3.0</td>\n",
       "      <td>NaN</td>\n",
       "      <td>LYON PART DIEU</td>\n",
       "      <td>PARIS LYON</td>\n",
       "      <td>120.549770</td>\n",
       "      <td>664.0</td>\n",
       "      <td>11.0</td>\n",
       "      <td>NaN</td>\n",
       "      <td>404.0</td>\n",
       "      <td>...</td>\n",
       "      <td>2.210031</td>\n",
       "      <td>12.0</td>\n",
       "      <td>1.0</td>\n",
       "      <td>2018-03</td>\n",
       "      <td>39.215686</td>\n",
       "      <td>5.882353</td>\n",
       "      <td>13.725490</td>\n",
       "      <td>23.529412</td>\n",
       "      <td>15.686275</td>\n",
       "      <td>1.960784</td>\n",
       "    </tr>\n",
       "    <tr>\n",
       "      <th>3</th>\n",
       "      <td>2018</td>\n",
       "      <td>3.0</td>\n",
       "      <td>NaN</td>\n",
       "      <td>PARIS LYON</td>\n",
       "      <td>GENEVE</td>\n",
       "      <td>194.005000</td>\n",
       "      <td>203.0</td>\n",
       "      <td>3.0</td>\n",
       "      <td>NaN</td>\n",
       "      <td>26.0</td>\n",
       "      <td>...</td>\n",
       "      <td>0.982500</td>\n",
       "      <td>4.0</td>\n",
       "      <td>0.0</td>\n",
       "      <td>2018-03</td>\n",
       "      <td>25.000000</td>\n",
       "      <td>15.000000</td>\n",
       "      <td>35.000000</td>\n",
       "      <td>10.000000</td>\n",
       "      <td>15.000000</td>\n",
       "      <td>0.000000</td>\n",
       "    </tr>\n",
       "    <tr>\n",
       "      <th>4</th>\n",
       "      <td>2018</td>\n",
       "      <td>8.0</td>\n",
       "      <td>NaN</td>\n",
       "      <td>LILLE</td>\n",
       "      <td>MARSEILLE ST CHARLES</td>\n",
       "      <td>309.389535</td>\n",
       "      <td>173.0</td>\n",
       "      <td>1.0</td>\n",
       "      <td>NaN</td>\n",
       "      <td>46.0</td>\n",
       "      <td>...</td>\n",
       "      <td>10.442151</td>\n",
       "      <td>13.0</td>\n",
       "      <td>6.0</td>\n",
       "      <td>2018-08</td>\n",
       "      <td>25.925926</td>\n",
       "      <td>7.407407</td>\n",
       "      <td>18.518519</td>\n",
       "      <td>29.629630</td>\n",
       "      <td>11.111111</td>\n",
       "      <td>7.407407</td>\n",
       "    </tr>\n",
       "  </tbody>\n",
       "</table>\n",
       "<p>5 rows × 34 columns</p>\n",
       "</div>"
      ],
      "text/plain": [
       "   Année  Mois Service  Gare de départ        Gare d'arrivée  \\\n",
       "0   2018   3.0     NaN      STRASBOURG             PARIS EST   \n",
       "1   2018   3.0     NaN      PARIS NORD             DUNKERQUE   \n",
       "2   2018   3.0     NaN  LYON PART DIEU            PARIS LYON   \n",
       "3   2018   3.0     NaN      PARIS LYON                GENEVE   \n",
       "4   2018   8.0     NaN           LILLE  MARSEILLE ST CHARLES   \n",
       "\n",
       "   Durée moyenne du trajet (min)  Nombre de circulations prévues  \\\n",
       "0                     112.402439                           505.0   \n",
       "1                     120.996310                           285.0   \n",
       "2                     120.549770                           664.0   \n",
       "3                     194.005000                           203.0   \n",
       "4                     309.389535                           173.0   \n",
       "\n",
       "   Nombre de trains annulés  Commentaire (facultatif) annulations  \\\n",
       "0                      13.0                                   NaN   \n",
       "1                      14.0                                   NaN   \n",
       "2                      11.0                                   NaN   \n",
       "3                       3.0                                   NaN   \n",
       "4                       1.0                                   NaN   \n",
       "\n",
       "   Nombre de trains en retard au départ  ...  \\\n",
       "0                                 250.0  ...   \n",
       "1                                  65.0  ...   \n",
       "2                                 404.0  ...   \n",
       "3                                  26.0  ...   \n",
       "4                                  46.0  ...   \n",
       "\n",
       "   Retard moyen trains en retard > 15min  Nombre trains en retard > 30min  \\\n",
       "0                               5.754031                             26.0   \n",
       "1                               6.697417                             19.0   \n",
       "2                               2.210031                             12.0   \n",
       "3                               0.982500                              4.0   \n",
       "4                              10.442151                             13.0   \n",
       "\n",
       "   Nombre trains en retard > 60min  Période  Retard pour causes externes  \\\n",
       "0                              6.0  2018-03                    37.662338   \n",
       "1                              7.0  2018-03                    30.769231   \n",
       "2                              1.0  2018-03                    39.215686   \n",
       "3                              0.0  2018-03                    25.000000   \n",
       "4                              6.0  2018-08                    25.925926   \n",
       "\n",
       "   Retard à cause infrastructure ferroviaire Retard à cause gestion trafic  \\\n",
       "0                                  15.584416                     19.480519   \n",
       "1                                  17.948718                     15.384615   \n",
       "2                                   5.882353                     13.725490   \n",
       "3                                  15.000000                     35.000000   \n",
       "4                                   7.407407                     18.518519   \n",
       "\n",
       "   Retard à cause matériel roulant  \\\n",
       "0                        16.883117   \n",
       "1                        33.333333   \n",
       "2                        23.529412   \n",
       "3                        10.000000   \n",
       "4                        29.629630   \n",
       "\n",
       "   Retard à cause gestion en gare et réutilisation de matériel  \\\n",
       "0                                           6.493506             \n",
       "1                                           2.564103             \n",
       "2                                          15.686275             \n",
       "3                                          15.000000             \n",
       "4                                          11.111111             \n",
       "\n",
       "   Retard à cause prise en compte voyageurs  \n",
       "0                                  3.896104  \n",
       "1                                  0.000000  \n",
       "2                                  1.960784  \n",
       "3                                  0.000000  \n",
       "4                                  7.407407  \n",
       "\n",
       "[5 rows x 34 columns]"
      ]
     },
     "execution_count": 17,
     "metadata": {},
     "output_type": "execute_result"
    }
   ],
   "source": [
    "df.head()"
   ]
  },
  {
   "cell_type": "code",
   "execution_count": 18,
   "metadata": {
    "ExecuteTime": {
     "end_time": "2019-10-20T13:55:54.290247Z",
     "start_time": "2019-10-20T13:55:54.263479Z"
    }
   },
   "outputs": [],
   "source": [
    "liste_gares = df['Gare de départ'].unique()"
   ]
  },
  {
   "cell_type": "code",
   "execution_count": 19,
   "metadata": {
    "ExecuteTime": {
     "end_time": "2019-10-20T13:55:54.463331Z",
     "start_time": "2019-10-20T13:55:54.435599Z"
    }
   },
   "outputs": [
    {
     "data": {
      "text/plain": [
       "array(['STRASBOURG', 'PARIS NORD', 'LYON PART DIEU', 'PARIS LYON',\n",
       "       'LILLE', 'MADRID', 'NICE VILLE', 'PARIS EST', 'PARIS MONTPARNASSE',\n",
       "       'TOULON', 'TOURS', 'BARCELONA', 'MULHOUSE VILLE', 'FRANCFORT',\n",
       "       'MARSEILLE ST CHARLES', 'RENNES', 'VANNES', 'BELLEGARDE (AIN)',\n",
       "       'NANTES', 'ANNECY', 'ANGOULEME', 'ARRAS', 'BORDEAUX ST JEAN',\n",
       "       'PERPIGNAN', 'ZURICH', 'METZ', 'DOUAI', 'LAVAL', 'AVIGNON TGV',\n",
       "       'STUTTGART', 'GENEVE', 'CHAMBERY CHALLES LES EAUX', 'ITALIE',\n",
       "       'ANGERS SAINT LAUD', 'DIJON VILLE', 'MONTPELLIER', 'POITIERS',\n",
       "       'BREST', 'TOURCOING', 'MACON LOCHE', 'MARNE LA VALLEE',\n",
       "       'LA ROCHELLE VILLE', 'VALENCE ALIXAN TGV', 'ST MALO',\n",
       "       'ST PIERRE DES CORPS', 'BESANCON FRANCHE COMTE TGV', 'LAUSANNE',\n",
       "       'GRENOBLE', 'LE MANS', 'REIMS', 'AIX EN PROVENCE TGV',\n",
       "       'TOULOUSE MATABIAU', 'NANCY', 'QUIMPER',\n",
       "       'LE CREUSOT MONTCEAU MONTCHANIN', 'NIMES', 'DUNKERQUE',\n",
       "       'SAINT ETIENNE CHATEAUCREUX', 'PARIS VAUGIRARD'], dtype=object)"
      ]
     },
     "execution_count": 19,
     "metadata": {},
     "output_type": "execute_result"
    }
   ],
   "source": [
    "liste_gares"
   ]
  },
  {
   "cell_type": "markdown",
   "metadata": {},
   "source": [
    "# Geocoding"
   ]
  },
  {
   "cell_type": "markdown",
   "metadata": {},
   "source": [
    "## Testing"
   ]
  },
  {
   "cell_type": "code",
   "execution_count": 9,
   "metadata": {
    "ExecuteTime": {
     "end_time": "2019-10-20T13:49:37.709429Z",
     "start_time": "2019-10-20T13:49:37.295357Z"
    }
   },
   "outputs": [
    {
     "name": "stdout",
     "output_type": "stream",
     "text": [
      "Flatiron Building, 175, 5th Avenue, Flatiron District, Manhattan Community Board 5, Manhattan, New York County, NYC, New York, 10010, USA\n",
      "(40.7410861, -73.9896298241625)\n"
     ]
    }
   ],
   "source": [
    "# Example\n",
    "geolocator = Nominatim(user_agent=\"specify_your_app_name_here\")\n",
    "location = geolocator.geocode(\"175 5th Avenue NYC\")\n",
    "print(location.address)\n",
    "print((location.latitude, location.longitude))"
   ]
  },
  {
   "cell_type": "code",
   "execution_count": 10,
   "metadata": {
    "ExecuteTime": {
     "end_time": "2019-10-20T13:50:24.712039Z",
     "start_time": "2019-10-20T13:50:24.386253Z"
    }
   },
   "outputs": [
    {
     "name": "stdout",
     "output_type": "stream",
     "text": [
      "Strasbourg, Bas-Rhin, Grand Est, France métropolitaine, France\n",
      "(48.584614, 7.7507127)\n"
     ]
    }
   ],
   "source": [
    "location = geolocator.geocode(\"STRASBOURG\")\n",
    "print(location.address)\n",
    "print((location.latitude, location.longitude))"
   ]
  },
  {
   "cell_type": "markdown",
   "metadata": {},
   "source": [
    "## Information about stations"
   ]
  },
  {
   "cell_type": "code",
   "execution_count": null,
   "metadata": {},
   "outputs": [],
   "source": [
    "gare_information = {}"
   ]
  },
  {
   "cell_type": "code",
   "execution_count": 23,
   "metadata": {
    "ExecuteTime": {
     "end_time": "2019-10-20T13:58:11.394265Z",
     "start_time": "2019-10-20T13:57:51.927352Z"
    }
   },
   "outputs": [
    {
     "name": "stdout",
     "output_type": "stream",
     "text": [
      "> Computing gare : STRASBOURG\n",
      "> Computing gare : PARIS NORD\n",
      "> Computing gare : LYON PART DIEU\n",
      "> Computing gare : PARIS LYON\n",
      "> Computing gare : LILLE\n",
      "> Computing gare : MADRID\n",
      "> Computing gare : NICE VILLE\n",
      "> Computing gare : PARIS EST\n",
      "> Computing gare : PARIS MONTPARNASSE\n",
      "> Computing gare : TOULON\n",
      "> Computing gare : TOURS\n",
      "> Computing gare : BARCELONA\n",
      "> Computing gare : MULHOUSE VILLE\n",
      "> Computing gare : FRANCFORT\n",
      "> Computing gare : MARSEILLE ST CHARLES\n",
      "> Computing gare : RENNES\n",
      "> Computing gare : VANNES\n",
      "> Computing gare : BELLEGARDE (AIN)\n",
      "> Computing gare : NANTES\n",
      "> Computing gare : ANNECY\n",
      "> Computing gare : ANGOULEME\n",
      "> Computing gare : ARRAS\n",
      "> Computing gare : BORDEAUX ST JEAN\n",
      "> Computing gare : PERPIGNAN\n",
      "> Computing gare : ZURICH\n",
      "> Computing gare : METZ\n",
      "> Computing gare : DOUAI\n",
      "> Computing gare : LAVAL\n",
      "> Computing gare : AVIGNON TGV\n",
      "> Computing gare : STUTTGART\n",
      "> Computing gare : GENEVE\n",
      "> Computing gare : CHAMBERY CHALLES LES EAUX\n",
      "> Computing gare : ITALIE\n",
      "> Computing gare : ANGERS SAINT LAUD\n",
      "> Computing gare : DIJON VILLE\n",
      "> Computing gare : MONTPELLIER\n",
      "> Computing gare : POITIERS\n",
      "> Computing gare : BREST\n",
      "> Computing gare : TOURCOING\n",
      "> Computing gare : MACON LOCHE\n",
      "> Computing gare : MARNE LA VALLEE\n",
      "> Computing gare : LA ROCHELLE VILLE\n",
      "> Computing gare : VALENCE ALIXAN TGV\n",
      "> Computing gare : ST MALO\n",
      "> Computing gare : ST PIERRE DES CORPS\n",
      "> Computing gare : BESANCON FRANCHE COMTE TGV\n",
      "> Computing gare : LAUSANNE\n",
      "> Computing gare : GRENOBLE\n",
      "> Computing gare : LE MANS\n",
      "> Computing gare : REIMS\n",
      "> Computing gare : AIX EN PROVENCE TGV\n",
      "> Computing gare : TOULOUSE MATABIAU\n",
      "> Computing gare : NANCY\n",
      "> Computing gare : QUIMPER\n",
      "> Computing gare : LE CREUSOT MONTCEAU MONTCHANIN\n",
      "> Computing gare : NIMES\n",
      "> Computing gare : DUNKERQUE\n",
      "> Computing gare : SAINT ETIENNE CHATEAUCREUX\n",
      "> Computing gare : PARIS VAUGIRARD\n"
     ]
    }
   ],
   "source": [
    "for gare in liste_gares:\n",
    "    print('> Computing gare : {}'.format(gare))\n",
    "    location = geolocator.geocode(gare)\n",
    "    data = {\n",
    "        'location_object':location,\n",
    "        'location_adress':location.address,\n",
    "        'latitude':location.latitude,\n",
    "        'longitude':location.longitude\n",
    "    }\n",
    "    gare_information[gare]=data\n",
    "    "
   ]
  },
  {
   "cell_type": "markdown",
   "metadata": {},
   "source": [
    "# Saving results for further exploitation"
   ]
  },
  {
   "cell_type": "code",
   "execution_count": 27,
   "metadata": {
    "ExecuteTime": {
     "end_time": "2019-10-20T14:03:58.633714Z",
     "start_time": "2019-10-20T14:03:58.613845Z"
    }
   },
   "outputs": [],
   "source": [
    "f.save_pickle(gare_information, 'gare_gps.p')"
   ]
  },
  {
   "cell_type": "markdown",
   "metadata": {},
   "source": [
    "### Displaying results for observation"
   ]
  },
  {
   "cell_type": "code",
   "execution_count": 30,
   "metadata": {
    "ExecuteTime": {
     "end_time": "2019-10-20T14:05:11.139169Z",
     "start_time": "2019-10-20T14:05:11.113524Z"
    },
    "scrolled": false
   },
   "outputs": [
    {
     "name": "stdout",
     "output_type": "stream",
     "text": [
      "\n",
      "> STRASBOURG \n",
      " 48.584614 7.7507127\n",
      "\n",
      "> PARIS NORD \n",
      " 50.6353896 3.0697335\n",
      "\n",
      "> LYON PART DIEU \n",
      " 45.7605423 4.8601993\n",
      "\n",
      "> PARIS LYON \n",
      " 48.8469697 2.3733881\n",
      "\n",
      "> LILLE \n",
      " 50.6365654 3.0635282\n",
      "\n",
      "> MADRID \n",
      " 40.4167047 -3.7035825\n",
      "\n",
      "> NICE VILLE \n",
      " 43.7048602 7.2617611\n",
      "\n",
      "> PARIS EST \n",
      " 48.8774344 2.3589456\n",
      "\n",
      "> PARIS MONTPARNASSE \n",
      " 48.8408073 2.3218471\n",
      "\n",
      "> TOULON \n",
      " 43.1257311 5.9304919\n",
      "\n",
      "> TOURS \n",
      " 47.3900474 0.6889268\n",
      "\n",
      "> BARCELONA \n",
      " 41.3828939 2.1774322\n",
      "\n",
      "> MULHOUSE VILLE \n",
      " 47.7417759 7.342934\n",
      "\n",
      "> FRANCFORT \n",
      " -32.8826344 -61.0219835\n",
      "\n",
      "> MARSEILLE ST CHARLES \n",
      " 43.3032722 5.3811746\n",
      "\n",
      "> RENNES \n",
      " 48.1113387 -1.6800198\n",
      "\n",
      "> VANNES \n",
      " 47.6586772 -2.7599079\n",
      "\n",
      "> BELLEGARDE (AIN) \n",
      " 46.2626363 4.9458155\n",
      "\n",
      "> NANTES \n",
      " 47.2186371 -1.5541362\n",
      "\n",
      "> ANNECY \n",
      " 45.88975045 6.135465100226\n",
      "\n",
      "> ANGOULEME \n",
      " 45.6512748 0.1576745\n",
      "\n",
      "> ARRAS \n",
      " 50.291048 2.7772211\n",
      "\n",
      "> BORDEAUX ST JEAN \n",
      " 44.8264016 -0.555906\n",
      "\n",
      "> PERPIGNAN \n",
      " 42.6985304 2.8953121\n",
      "\n",
      "> ZURICH \n",
      " 47.3723941 8.5423328\n",
      "\n",
      "> METZ \n",
      " 49.1196964 6.1763552\n",
      "\n",
      "> DOUAI \n",
      " 50.3703683 3.0761377\n",
      "\n",
      "> LAVAL \n",
      " 48.0710377 -0.7723499\n",
      "\n",
      "> AVIGNON TGV \n",
      " 43.9217832 4.786072\n",
      "\n",
      "> STUTTGART \n",
      " 48.7784485 9.1800132\n",
      "\n",
      "> GENEVE \n",
      " 46.2017559 6.1466014\n",
      "\n",
      "> CHAMBERY CHALLES LES EAUX \n",
      " 45.5714337 5.9198702\n",
      "\n",
      "> ITALIE \n",
      " 42.6384261 12.674297\n",
      "\n",
      "> ANGERS SAINT LAUD \n",
      " 47.4645375 -0.556843343181815\n",
      "\n",
      "> DIJON VILLE \n",
      " 47.3231793 5.0273864\n",
      "\n",
      "> MONTPELLIER \n",
      " 43.6112422 3.8767337\n",
      "\n",
      "> POITIERS \n",
      " 46.5802596 0.340196\n",
      "\n",
      "> BREST \n",
      " 48.3905283 -4.4860088\n",
      "\n",
      "> TOURCOING \n",
      " 50.7235038 3.1605714\n",
      "\n",
      "> MACON LOCHE \n",
      " 46.28120705 4.77282913057634\n",
      "\n",
      "> MARNE LA VALLEE \n",
      " 48.8497513 2.67159197239168\n",
      "\n",
      "> LA ROCHELLE VILLE \n",
      " 46.1525774 -1.1453062\n",
      "\n",
      "> VALENCE ALIXAN TGV \n",
      " 44.9960355 4.99675216451078\n",
      "\n",
      "> ST MALO \n",
      " 48.6454528 -2.015418\n",
      "\n",
      "> ST PIERRE DES CORPS \n",
      " 47.3898152 0.7189761\n",
      "\n",
      "> BESANCON FRANCHE COMTE TGV \n",
      " 47.3072669 5.9533257\n",
      "\n",
      "> LAUSANNE \n",
      " 46.5218269 6.6327025\n",
      "\n",
      "> GRENOBLE \n",
      " 45.1875602 5.7357819\n",
      "\n",
      "> LE MANS \n",
      " 48.0073498 0.1967379\n",
      "\n",
      "> REIMS \n",
      " 49.2577886 4.031926\n",
      "\n",
      "> AIX EN PROVENCE TGV \n",
      " 43.4551451 5.3172873\n",
      "\n",
      "> TOULOUSE MATABIAU \n",
      " 43.6112457 1.4539572\n",
      "\n",
      "> NANCY \n",
      " 48.6937223 6.1834097\n",
      "\n",
      "> QUIMPER \n",
      " 47.9960325 -4.1024782\n",
      "\n",
      "> LE CREUSOT MONTCEAU MONTCHANIN \n",
      " 46.7653149 4.4995015\n",
      "\n",
      "> NIMES \n",
      " 43.8374249 4.3600687\n",
      "\n",
      "> DUNKERQUE \n",
      " 51.0347708 2.3772525\n",
      "\n",
      "> SAINT ETIENNE CHATEAUCREUX \n",
      " 45.4433433 4.3994367\n",
      "\n",
      "> PARIS VAUGIRARD \n",
      " 48.8414302 2.2961649330194\n"
     ]
    }
   ],
   "source": [
    "for key, value in gare_information.items():\n",
    "    print('\\n>', key,'\\n', value['latitude'], value['longitude'])"
   ]
  },
  {
   "cell_type": "code",
   "execution_count": null,
   "metadata": {},
   "outputs": [],
   "source": []
  }
 ],
 "metadata": {
  "kernelspec": {
   "display_name": "Python 3",
   "language": "python",
   "name": "python3"
  },
  "language_info": {
   "codemirror_mode": {
    "name": "ipython",
    "version": 3
   },
   "file_extension": ".py",
   "mimetype": "text/x-python",
   "name": "python",
   "nbconvert_exporter": "python",
   "pygments_lexer": "ipython3",
   "version": "3.7.3"
  },
  "toc": {
   "base_numbering": 1,
   "nav_menu": {},
   "number_sections": true,
   "sideBar": true,
   "skip_h1_title": false,
   "title_cell": "Table of Contents",
   "title_sidebar": "Contents",
   "toc_cell": false,
   "toc_position": {},
   "toc_section_display": true,
   "toc_window_display": false
  },
  "varInspector": {
   "cols": {
    "lenName": 16,
    "lenType": 16,
    "lenVar": 40
   },
   "kernels_config": {
    "python": {
     "delete_cmd_postfix": "",
     "delete_cmd_prefix": "del ",
     "library": "var_list.py",
     "varRefreshCmd": "print(var_dic_list())"
    },
    "r": {
     "delete_cmd_postfix": ") ",
     "delete_cmd_prefix": "rm(",
     "library": "var_list.r",
     "varRefreshCmd": "cat(var_dic_list()) "
    }
   },
   "types_to_exclude": [
    "module",
    "function",
    "builtin_function_or_method",
    "instance",
    "_Feature"
   ],
   "window_display": false
  }
 },
 "nbformat": 4,
 "nbformat_minor": 2
}