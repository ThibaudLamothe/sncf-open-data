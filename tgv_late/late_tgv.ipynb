{
 "cells": [
  {
   "cell_type": "markdown",
   "metadata": {},
   "source": [
    "# Making imports"
   ]
  },
  {
   "cell_type": "code",
   "execution_count": 4,
   "metadata": {
    "ExecuteTime": {
     "end_time": "2019-10-20T14:50:20.572208Z",
     "start_time": "2019-10-20T14:50:17.136210Z"
    }
   },
   "outputs": [],
   "source": [
    "import sys\n",
    "import json\n",
    "import numpy as np\n",
    "import pandas as pd\n",
    "import seaborn as sns\n",
    "import matplotlib.pyplot as plt\n",
    "\n",
    "from sklearn.preprocessing import LabelEncoder\n",
    "\n",
    "import plotly\n",
    "import plotly.graph_objects as go\n",
    "\n",
    "\n",
    "sys.path.append('..')\n",
    "import sncf_utils as f\n",
    "from sncf_connection import SNCF\n",
    "\n",
    "sns.set()"
   ]
  },
  {
   "cell_type": "code",
   "execution_count": 44,
   "metadata": {},
   "outputs": [
    {
     "data": {
      "text/plain": [
       "Timestamp('1970-01-01 00:00:00.000002019')"
      ]
     },
     "execution_count": 44,
     "metadata": {},
     "output_type": "execute_result"
    }
   ],
   "source": [
    "pd.to_datetime(2019)"
   ]
  },
  {
   "cell_type": "code",
   "execution_count": null,
   "metadata": {},
   "outputs": [],
   "source": []
  },
  {
   "cell_type": "code",
   "execution_count": 5,
   "metadata": {
    "ExecuteTime": {
     "end_time": "2019-10-20T14:50:30.165766Z",
     "start_time": "2019-10-20T14:50:30.102051Z"
    }
   },
   "outputs": [],
   "source": [
    "%load_ext autoreload\n",
    "%autoreload 2"
   ]
  },
  {
   "cell_type": "code",
   "execution_count": 6,
   "metadata": {
    "ExecuteTime": {
     "end_time": "2019-10-20T14:50:30.917788Z",
     "start_time": "2019-10-20T14:50:30.862093Z"
    }
   },
   "outputs": [],
   "source": [
    "%aimport sncf_connection\n",
    "%aimport sncf_utils"
   ]
  },
  {
   "cell_type": "code",
   "execution_count": 7,
   "metadata": {
    "ExecuteTime": {
     "end_time": "2019-10-20T14:50:31.524515Z",
     "start_time": "2019-10-20T14:50:31.472425Z"
    }
   },
   "outputs": [],
   "source": [
    "sncf = SNCF('../sncf.token')"
   ]
  },
  {
   "cell_type": "code",
   "execution_count": 8,
   "metadata": {
    "ExecuteTime": {
     "end_time": "2019-10-20T14:50:32.071171Z",
     "start_time": "2019-10-20T14:50:31.993247Z"
    }
   },
   "outputs": [
    {
     "name": "stdout",
     "output_type": "stream",
     "text": [
      "tooto\n"
     ]
    }
   ],
   "source": [
    "sncf.print_test()"
   ]
  },
  {
   "cell_type": "markdown",
   "metadata": {},
   "source": [
    "# Loading"
   ]
  },
  {
   "cell_type": "code",
   "execution_count": 24,
   "metadata": {
    "ExecuteTime": {
     "end_time": "2019-10-20T14:50:33.057707Z",
     "start_time": "2019-10-20T14:50:32.984469Z"
    }
   },
   "outputs": [
    {
     "data": {
      "text/plain": [
       "'/Users/thibaud/Documents/Data/SNCF/'"
      ]
     },
     "execution_count": 24,
     "metadata": {},
     "output_type": "execute_result"
    }
   ],
   "source": [
    "f.DATA_PATH"
   ]
  },
  {
   "cell_type": "code",
   "execution_count": 25,
   "metadata": {
    "ExecuteTime": {
     "end_time": "2019-10-20T14:50:33.773112Z",
     "start_time": "2019-10-20T14:50:33.575890Z"
    }
   },
   "outputs": [
    {
     "data": {
      "text/html": [
       "<div>\n",
       "<style scoped>\n",
       "    .dataframe tbody tr th:only-of-type {\n",
       "        vertical-align: middle;\n",
       "    }\n",
       "\n",
       "    .dataframe tbody tr th {\n",
       "        vertical-align: top;\n",
       "    }\n",
       "\n",
       "    .dataframe thead th {\n",
       "        text-align: right;\n",
       "    }\n",
       "</style>\n",
       "<table border=\"1\" class=\"dataframe\">\n",
       "  <thead>\n",
       "    <tr style=\"text-align: right;\">\n",
       "      <th></th>\n",
       "      <th>Année</th>\n",
       "      <th>Mois</th>\n",
       "      <th>Service</th>\n",
       "      <th>Gare de départ</th>\n",
       "      <th>Gare d'arrivée</th>\n",
       "      <th>Durée moyenne du trajet (min)</th>\n",
       "      <th>Nombre de circulations prévues</th>\n",
       "      <th>Nombre de trains annulés</th>\n",
       "      <th>Commentaire (facultatif) annulations</th>\n",
       "      <th>Nombre de trains en retard au départ</th>\n",
       "      <th>...</th>\n",
       "      <th>Retard moyen trains en retard &gt; 15min</th>\n",
       "      <th>Nombre trains en retard &gt; 30min</th>\n",
       "      <th>Nombre trains en retard &gt; 60min</th>\n",
       "      <th>Période</th>\n",
       "      <th>Retard pour causes externes</th>\n",
       "      <th>Retard à cause infrastructure ferroviaire</th>\n",
       "      <th>Retard à cause gestion trafic</th>\n",
       "      <th>Retard à cause matériel roulant</th>\n",
       "      <th>Retard à cause gestion en gare et réutilisation de matériel</th>\n",
       "      <th>Retard à cause prise en compte voyageurs</th>\n",
       "    </tr>\n",
       "  </thead>\n",
       "  <tbody>\n",
       "    <tr>\n",
       "      <th>0</th>\n",
       "      <td>2018</td>\n",
       "      <td>3.0</td>\n",
       "      <td>NaN</td>\n",
       "      <td>STRASBOURG</td>\n",
       "      <td>PARIS EST</td>\n",
       "      <td>112.402439</td>\n",
       "      <td>505.0</td>\n",
       "      <td>13.0</td>\n",
       "      <td>NaN</td>\n",
       "      <td>250.0</td>\n",
       "      <td>...</td>\n",
       "      <td>5.754031</td>\n",
       "      <td>26.0</td>\n",
       "      <td>6.0</td>\n",
       "      <td>2018-03</td>\n",
       "      <td>37.662338</td>\n",
       "      <td>15.584416</td>\n",
       "      <td>19.480519</td>\n",
       "      <td>16.883117</td>\n",
       "      <td>6.493506</td>\n",
       "      <td>3.896104</td>\n",
       "    </tr>\n",
       "    <tr>\n",
       "      <th>1</th>\n",
       "      <td>2018</td>\n",
       "      <td>3.0</td>\n",
       "      <td>NaN</td>\n",
       "      <td>PARIS NORD</td>\n",
       "      <td>DUNKERQUE</td>\n",
       "      <td>120.996310</td>\n",
       "      <td>285.0</td>\n",
       "      <td>14.0</td>\n",
       "      <td>NaN</td>\n",
       "      <td>65.0</td>\n",
       "      <td>...</td>\n",
       "      <td>6.697417</td>\n",
       "      <td>19.0</td>\n",
       "      <td>7.0</td>\n",
       "      <td>2018-03</td>\n",
       "      <td>30.769231</td>\n",
       "      <td>17.948718</td>\n",
       "      <td>15.384615</td>\n",
       "      <td>33.333333</td>\n",
       "      <td>2.564103</td>\n",
       "      <td>0.000000</td>\n",
       "    </tr>\n",
       "    <tr>\n",
       "      <th>2</th>\n",
       "      <td>2018</td>\n",
       "      <td>3.0</td>\n",
       "      <td>NaN</td>\n",
       "      <td>LYON PART DIEU</td>\n",
       "      <td>PARIS LYON</td>\n",
       "      <td>120.549770</td>\n",
       "      <td>664.0</td>\n",
       "      <td>11.0</td>\n",
       "      <td>NaN</td>\n",
       "      <td>404.0</td>\n",
       "      <td>...</td>\n",
       "      <td>2.210031</td>\n",
       "      <td>12.0</td>\n",
       "      <td>1.0</td>\n",
       "      <td>2018-03</td>\n",
       "      <td>39.215686</td>\n",
       "      <td>5.882353</td>\n",
       "      <td>13.725490</td>\n",
       "      <td>23.529412</td>\n",
       "      <td>15.686275</td>\n",
       "      <td>1.960784</td>\n",
       "    </tr>\n",
       "    <tr>\n",
       "      <th>3</th>\n",
       "      <td>2018</td>\n",
       "      <td>3.0</td>\n",
       "      <td>NaN</td>\n",
       "      <td>PARIS LYON</td>\n",
       "      <td>GENEVE</td>\n",
       "      <td>194.005000</td>\n",
       "      <td>203.0</td>\n",
       "      <td>3.0</td>\n",
       "      <td>NaN</td>\n",
       "      <td>26.0</td>\n",
       "      <td>...</td>\n",
       "      <td>0.982500</td>\n",
       "      <td>4.0</td>\n",
       "      <td>0.0</td>\n",
       "      <td>2018-03</td>\n",
       "      <td>25.000000</td>\n",
       "      <td>15.000000</td>\n",
       "      <td>35.000000</td>\n",
       "      <td>10.000000</td>\n",
       "      <td>15.000000</td>\n",
       "      <td>0.000000</td>\n",
       "    </tr>\n",
       "    <tr>\n",
       "      <th>4</th>\n",
       "      <td>2018</td>\n",
       "      <td>8.0</td>\n",
       "      <td>NaN</td>\n",
       "      <td>LILLE</td>\n",
       "      <td>MARSEILLE ST CHARLES</td>\n",
       "      <td>309.389535</td>\n",
       "      <td>173.0</td>\n",
       "      <td>1.0</td>\n",
       "      <td>NaN</td>\n",
       "      <td>46.0</td>\n",
       "      <td>...</td>\n",
       "      <td>10.442151</td>\n",
       "      <td>13.0</td>\n",
       "      <td>6.0</td>\n",
       "      <td>2018-08</td>\n",
       "      <td>25.925926</td>\n",
       "      <td>7.407407</td>\n",
       "      <td>18.518519</td>\n",
       "      <td>29.629630</td>\n",
       "      <td>11.111111</td>\n",
       "      <td>7.407407</td>\n",
       "    </tr>\n",
       "  </tbody>\n",
       "</table>\n",
       "<p>5 rows × 34 columns</p>\n",
       "</div>"
      ],
      "text/plain": [
       "   Année  Mois Service  Gare de départ        Gare d'arrivée  \\\n",
       "0   2018   3.0     NaN      STRASBOURG             PARIS EST   \n",
       "1   2018   3.0     NaN      PARIS NORD             DUNKERQUE   \n",
       "2   2018   3.0     NaN  LYON PART DIEU            PARIS LYON   \n",
       "3   2018   3.0     NaN      PARIS LYON                GENEVE   \n",
       "4   2018   8.0     NaN           LILLE  MARSEILLE ST CHARLES   \n",
       "\n",
       "   Durée moyenne du trajet (min)  Nombre de circulations prévues  \\\n",
       "0                     112.402439                           505.0   \n",
       "1                     120.996310                           285.0   \n",
       "2                     120.549770                           664.0   \n",
       "3                     194.005000                           203.0   \n",
       "4                     309.389535                           173.0   \n",
       "\n",
       "   Nombre de trains annulés  Commentaire (facultatif) annulations  \\\n",
       "0                      13.0                                   NaN   \n",
       "1                      14.0                                   NaN   \n",
       "2                      11.0                                   NaN   \n",
       "3                       3.0                                   NaN   \n",
       "4                       1.0                                   NaN   \n",
       "\n",
       "   Nombre de trains en retard au départ  ...  \\\n",
       "0                                 250.0  ...   \n",
       "1                                  65.0  ...   \n",
       "2                                 404.0  ...   \n",
       "3                                  26.0  ...   \n",
       "4                                  46.0  ...   \n",
       "\n",
       "   Retard moyen trains en retard > 15min  Nombre trains en retard > 30min  \\\n",
       "0                               5.754031                             26.0   \n",
       "1                               6.697417                             19.0   \n",
       "2                               2.210031                             12.0   \n",
       "3                               0.982500                              4.0   \n",
       "4                              10.442151                             13.0   \n",
       "\n",
       "   Nombre trains en retard > 60min  Période  Retard pour causes externes  \\\n",
       "0                              6.0  2018-03                    37.662338   \n",
       "1                              7.0  2018-03                    30.769231   \n",
       "2                              1.0  2018-03                    39.215686   \n",
       "3                              0.0  2018-03                    25.000000   \n",
       "4                              6.0  2018-08                    25.925926   \n",
       "\n",
       "   Retard à cause infrastructure ferroviaire Retard à cause gestion trafic  \\\n",
       "0                                  15.584416                     19.480519   \n",
       "1                                  17.948718                     15.384615   \n",
       "2                                   5.882353                     13.725490   \n",
       "3                                  15.000000                     35.000000   \n",
       "4                                   7.407407                     18.518519   \n",
       "\n",
       "   Retard à cause matériel roulant  \\\n",
       "0                        16.883117   \n",
       "1                        33.333333   \n",
       "2                        23.529412   \n",
       "3                        10.000000   \n",
       "4                        29.629630   \n",
       "\n",
       "   Retard à cause gestion en gare et réutilisation de matériel  \\\n",
       "0                                           6.493506             \n",
       "1                                           2.564103             \n",
       "2                                          15.686275             \n",
       "3                                          15.000000             \n",
       "4                                          11.111111             \n",
       "\n",
       "   Retard à cause prise en compte voyageurs  \n",
       "0                                  3.896104  \n",
       "1                                  0.000000  \n",
       "2                                  1.960784  \n",
       "3                                  0.000000  \n",
       "4                                  7.407407  \n",
       "\n",
       "[5 rows x 34 columns]"
      ]
     },
     "execution_count": 25,
     "metadata": {},
     "output_type": "execute_result"
    }
   ],
   "source": [
    "file_name = 'regularite-mensuelle-tgv-aqst.csv'\n",
    "file_path = f.DATA_PATH + 'csv/' + file_name\n",
    "df = pd.read_csv(file_path, sep=';')\n",
    "df.head()"
   ]
  },
  {
   "cell_type": "code",
   "execution_count": 22,
   "metadata": {
    "ExecuteTime": {
     "end_time": "2019-10-20T14:50:34.615300Z",
     "start_time": "2019-10-20T14:50:34.563274Z"
    }
   },
   "outputs": [
    {
     "name": "stdout",
     "output_type": "stream",
     "text": [
      "Taille du dataset : (6453, 29)\n"
     ]
    }
   ],
   "source": [
    "print('Taille du dataset : {}'.format(df.shape))\n",
    "nb_col = df.shape[0]\n",
    "pd.set_option('display.max_columns', nb_col)"
   ]
  },
  {
   "cell_type": "markdown",
   "metadata": {},
   "source": [
    "# Cleaning"
   ]
  },
  {
   "cell_type": "code",
   "execution_count": 27,
   "metadata": {
    "ExecuteTime": {
     "end_time": "2019-10-20T14:50:35.688278Z",
     "start_time": "2019-10-20T14:50:35.600121Z"
    }
   },
   "outputs": [],
   "source": [
    "#{i:f.transfoCol(i) for i in df.columns}"
   ]
  },
  {
   "cell_type": "code",
   "execution_count": 28,
   "metadata": {
    "ExecuteTime": {
     "end_time": "2019-10-20T14:50:36.752709Z",
     "start_time": "2019-10-20T14:50:36.686857Z"
    }
   },
   "outputs": [],
   "source": [
    "rename_dict = {'Année': 'annee',\n",
    " 'Mois': 'mois',\n",
    " 'Service': 'service',\n",
    " 'Gare de départ': 'gare_depart',\n",
    " \"Gare d'arrivée\": 'gare_arrivee',\n",
    " 'Durée moyenne du trajet (min)': 'duree_moyenne_trajet',\n",
    " 'Nombre de circulations prévues': 'nbr_circulations_prevues',\n",
    " 'Nombre de trains annulés': 'nbr_trains_annules',\n",
    " 'Commentaire (facultatif) annulations': 'commentaire_facultatif_annulations',\n",
    " 'Nombre de trains en retard au départ': 'nbr_trains_retard_depart',\n",
    " 'Retard moyen des trains en retard au départ (min)': 'retard_moyen_trains_retard_depart__min',\n",
    " 'Retard moyen de tous les trains au départ (min)': 'retard_moyen_tous_les_trains_depart__min',\n",
    " 'Commentaire (facultatif) retards au départ': 'commentaire_facultatif_retards_depart',\n",
    " \"Nombre de trains en retard à l'arrivée\": 'nbr_trains_retard_arrivee',\n",
    " \"Retard moyen des trains en retard à l'arrivée (min)\": 'retard_moyen_trains_retard_arrivee__min',\n",
    " \"Retard moyen de tous les trains à l'arrivée (min)\": 'retard_moyen_tous_les_trains_arrivee__min',\n",
    " \"Commentaire (facultatif) retards à l'arrivée\": 'commentaire_facultatif_retards_arrivee',\n",
    " '% trains en retard pour causes externes (météo, obstacles, colis suspects, malveillance, mouvements sociaux, etc.)': 'pct_retard_causes_externes',\n",
    " '% trains en retard à cause infrastructure ferroviaire (maintenance, travaux)': 'pct_retard_cause_infrastructure_ferroviaire',\n",
    " '% trains en retard à cause gestion trafic (circulation sur ligne ferroviaire, interactions réseaux)': 'pct_retard_cause_gestion_trafic',\n",
    " '% trains en retard à cause matériel roulant': 'pct_retard_cause_materiel_roulant',\n",
    " '% trains en retard à cause gestion en gare et réutilisation de matériel': 'pct_retard_cause_gestion_en_gare',\n",
    " '% trains en retard à cause prise en compte voyageurs (affluence, gestions PSH, correspondances)': 'pct_retard_cause_prise_en_compte_voyageurs',\n",
    " 'Nombre trains en retard > 15min': 'nbr_trains_15min',\n",
    " 'Retard moyen trains en retard > 15min': 'retard_moyen_trains_15min',\n",
    " 'Nombre trains en retard > 30min': 'nbr_trains_30min',\n",
    " 'Nombre trains en retard > 60min': 'nbr_trains_60min',\n",
    " 'Période': 'periode',\n",
    " 'Retard pour causes externes': 'retard_causes_externes',\n",
    " 'Retard à cause infrastructure ferroviaire': 'retard_infrastructure_ferroviaire',\n",
    " 'Retard à cause gestion trafic': 'retard_gestion_trafic',\n",
    " 'Retard à cause matériel roulant': 'retard_materiel_roulant',\n",
    " 'Retard à cause gestion en gare et réutilisation de matériel': 'retard_gestion_en_gare_et_reutilisation_de_materiel',\n",
    " 'Retard à cause prise en compte voyageurs': 'retard_prise_en_compte_voyageurs'}"
   ]
  },
  {
   "cell_type": "code",
   "execution_count": 29,
   "metadata": {
    "ExecuteTime": {
     "end_time": "2019-10-20T14:50:37.725263Z",
     "start_time": "2019-10-20T14:50:37.659925Z"
    }
   },
   "outputs": [],
   "source": [
    "# Renaming columns\n",
    "df = df.rename(columns=rename_dict)"
   ]
  },
  {
   "cell_type": "code",
   "execution_count": 30,
   "metadata": {
    "ExecuteTime": {
     "end_time": "2019-10-20T14:50:38.768842Z",
     "start_time": "2019-10-20T14:50:38.636540Z"
    }
   },
   "outputs": [
    {
     "data": {
      "text/html": [
       "<div>\n",
       "<style scoped>\n",
       "    .dataframe tbody tr th:only-of-type {\n",
       "        vertical-align: middle;\n",
       "    }\n",
       "\n",
       "    .dataframe tbody tr th {\n",
       "        vertical-align: top;\n",
       "    }\n",
       "\n",
       "    .dataframe thead th {\n",
       "        text-align: right;\n",
       "    }\n",
       "</style>\n",
       "<table border=\"1\" class=\"dataframe\">\n",
       "  <thead>\n",
       "    <tr style=\"text-align: right;\">\n",
       "      <th></th>\n",
       "      <th>annee</th>\n",
       "      <th>mois</th>\n",
       "      <th>service</th>\n",
       "      <th>gare_depart</th>\n",
       "      <th>gare_arrivee</th>\n",
       "      <th>duree_moyenne_trajet</th>\n",
       "      <th>nbr_circulations_prevues</th>\n",
       "      <th>nbr_trains_annules</th>\n",
       "      <th>commentaire_facultatif_annulations</th>\n",
       "      <th>nbr_trains_retard_depart</th>\n",
       "      <th>retard_moyen_trains_retard_depart__min</th>\n",
       "      <th>retard_moyen_tous_les_trains_depart__min</th>\n",
       "      <th>commentaire_facultatif_retards_depart</th>\n",
       "      <th>nbr_trains_retard_arrivee</th>\n",
       "      <th>retard_moyen_trains_retard_arrivee__min</th>\n",
       "      <th>retard_moyen_tous_les_trains_arrivee__min</th>\n",
       "      <th>commentaire_facultatif_retards_arrivee</th>\n",
       "      <th>pct_retard_causes_externes</th>\n",
       "      <th>pct_retard_cause_infrastructure_ferroviaire</th>\n",
       "      <th>pct_retard_cause_gestion_trafic</th>\n",
       "      <th>pct_retard_cause_materiel_roulant</th>\n",
       "      <th>pct_retard_cause_gestion_en_gare</th>\n",
       "      <th>pct_retard_cause_prise_en_compte_voyageurs</th>\n",
       "      <th>nbr_trains_15min</th>\n",
       "      <th>retard_moyen_trains_15min</th>\n",
       "      <th>nbr_trains_30min</th>\n",
       "      <th>nbr_trains_60min</th>\n",
       "      <th>periode</th>\n",
       "      <th>retard_causes_externes</th>\n",
       "      <th>retard_infrastructure_ferroviaire</th>\n",
       "      <th>retard_gestion_trafic</th>\n",
       "      <th>retard_materiel_roulant</th>\n",
       "      <th>retard_gestion_en_gare_et_reutilisation_de_materiel</th>\n",
       "      <th>retard_prise_en_compte_voyageurs</th>\n",
       "    </tr>\n",
       "  </thead>\n",
       "  <tbody>\n",
       "    <tr>\n",
       "      <th>0</th>\n",
       "      <td>2018</td>\n",
       "      <td>3.0</td>\n",
       "      <td>NaN</td>\n",
       "      <td>STRASBOURG</td>\n",
       "      <td>PARIS EST</td>\n",
       "      <td>112.402439</td>\n",
       "      <td>505.0</td>\n",
       "      <td>13.0</td>\n",
       "      <td>NaN</td>\n",
       "      <td>250.0</td>\n",
       "      <td>7.831733</td>\n",
       "      <td>4.039092</td>\n",
       "      <td>NaN</td>\n",
       "      <td>81.0</td>\n",
       "      <td>29.802058</td>\n",
       "      <td>5.754031</td>\n",
       "      <td>NaN</td>\n",
       "      <td>0.376623</td>\n",
       "      <td>0.155844</td>\n",
       "      <td>0.194805</td>\n",
       "      <td>0.168831</td>\n",
       "      <td>0.064935</td>\n",
       "      <td>0.038961</td>\n",
       "      <td>64.0</td>\n",
       "      <td>5.754031</td>\n",
       "      <td>26.0</td>\n",
       "      <td>6.0</td>\n",
       "      <td>2018-03</td>\n",
       "      <td>37.662338</td>\n",
       "      <td>15.584416</td>\n",
       "      <td>19.480519</td>\n",
       "      <td>16.883117</td>\n",
       "      <td>6.493506</td>\n",
       "      <td>3.896104</td>\n",
       "    </tr>\n",
       "    <tr>\n",
       "      <th>1</th>\n",
       "      <td>2018</td>\n",
       "      <td>3.0</td>\n",
       "      <td>NaN</td>\n",
       "      <td>PARIS NORD</td>\n",
       "      <td>DUNKERQUE</td>\n",
       "      <td>120.996310</td>\n",
       "      <td>285.0</td>\n",
       "      <td>14.0</td>\n",
       "      <td>NaN</td>\n",
       "      <td>65.0</td>\n",
       "      <td>18.206154</td>\n",
       "      <td>4.234379</td>\n",
       "      <td>NaN</td>\n",
       "      <td>39.0</td>\n",
       "      <td>41.282051</td>\n",
       "      <td>6.697417</td>\n",
       "      <td>NaN</td>\n",
       "      <td>0.307692</td>\n",
       "      <td>0.179487</td>\n",
       "      <td>0.153846</td>\n",
       "      <td>0.333333</td>\n",
       "      <td>0.025641</td>\n",
       "      <td>0.000000</td>\n",
       "      <td>28.0</td>\n",
       "      <td>6.697417</td>\n",
       "      <td>19.0</td>\n",
       "      <td>7.0</td>\n",
       "      <td>2018-03</td>\n",
       "      <td>30.769231</td>\n",
       "      <td>17.948718</td>\n",
       "      <td>15.384615</td>\n",
       "      <td>33.333333</td>\n",
       "      <td>2.564103</td>\n",
       "      <td>0.000000</td>\n",
       "    </tr>\n",
       "    <tr>\n",
       "      <th>2</th>\n",
       "      <td>2018</td>\n",
       "      <td>3.0</td>\n",
       "      <td>NaN</td>\n",
       "      <td>LYON PART DIEU</td>\n",
       "      <td>PARIS LYON</td>\n",
       "      <td>120.549770</td>\n",
       "      <td>664.0</td>\n",
       "      <td>11.0</td>\n",
       "      <td>NaN</td>\n",
       "      <td>404.0</td>\n",
       "      <td>5.177682</td>\n",
       "      <td>3.318836</td>\n",
       "      <td>NaN</td>\n",
       "      <td>56.0</td>\n",
       "      <td>23.882738</td>\n",
       "      <td>2.210031</td>\n",
       "      <td>NaN</td>\n",
       "      <td>0.392157</td>\n",
       "      <td>0.058824</td>\n",
       "      <td>0.137255</td>\n",
       "      <td>0.235294</td>\n",
       "      <td>0.156863</td>\n",
       "      <td>0.019608</td>\n",
       "      <td>39.0</td>\n",
       "      <td>2.210031</td>\n",
       "      <td>12.0</td>\n",
       "      <td>1.0</td>\n",
       "      <td>2018-03</td>\n",
       "      <td>39.215686</td>\n",
       "      <td>5.882353</td>\n",
       "      <td>13.725490</td>\n",
       "      <td>23.529412</td>\n",
       "      <td>15.686275</td>\n",
       "      <td>1.960784</td>\n",
       "    </tr>\n",
       "    <tr>\n",
       "      <th>3</th>\n",
       "      <td>2018</td>\n",
       "      <td>3.0</td>\n",
       "      <td>NaN</td>\n",
       "      <td>PARIS LYON</td>\n",
       "      <td>GENEVE</td>\n",
       "      <td>194.005000</td>\n",
       "      <td>203.0</td>\n",
       "      <td>3.0</td>\n",
       "      <td>NaN</td>\n",
       "      <td>26.0</td>\n",
       "      <td>10.032692</td>\n",
       "      <td>1.004250</td>\n",
       "      <td>NaN</td>\n",
       "      <td>20.0</td>\n",
       "      <td>24.045833</td>\n",
       "      <td>0.982500</td>\n",
       "      <td>NaN</td>\n",
       "      <td>0.250000</td>\n",
       "      <td>0.150000</td>\n",
       "      <td>0.350000</td>\n",
       "      <td>0.100000</td>\n",
       "      <td>0.150000</td>\n",
       "      <td>0.000000</td>\n",
       "      <td>20.0</td>\n",
       "      <td>0.982500</td>\n",
       "      <td>4.0</td>\n",
       "      <td>0.0</td>\n",
       "      <td>2018-03</td>\n",
       "      <td>25.000000</td>\n",
       "      <td>15.000000</td>\n",
       "      <td>35.000000</td>\n",
       "      <td>10.000000</td>\n",
       "      <td>15.000000</td>\n",
       "      <td>0.000000</td>\n",
       "    </tr>\n",
       "    <tr>\n",
       "      <th>4</th>\n",
       "      <td>2018</td>\n",
       "      <td>8.0</td>\n",
       "      <td>NaN</td>\n",
       "      <td>LILLE</td>\n",
       "      <td>MARSEILLE ST CHARLES</td>\n",
       "      <td>309.389535</td>\n",
       "      <td>173.0</td>\n",
       "      <td>1.0</td>\n",
       "      <td>NaN</td>\n",
       "      <td>46.0</td>\n",
       "      <td>6.396014</td>\n",
       "      <td>1.819767</td>\n",
       "      <td>NaN</td>\n",
       "      <td>37.0</td>\n",
       "      <td>37.442793</td>\n",
       "      <td>10.442151</td>\n",
       "      <td>Pendant les deux premières semaines d’août, le...</td>\n",
       "      <td>0.259259</td>\n",
       "      <td>0.074074</td>\n",
       "      <td>0.185185</td>\n",
       "      <td>0.296296</td>\n",
       "      <td>0.111111</td>\n",
       "      <td>0.074074</td>\n",
       "      <td>37.0</td>\n",
       "      <td>10.442151</td>\n",
       "      <td>13.0</td>\n",
       "      <td>6.0</td>\n",
       "      <td>2018-08</td>\n",
       "      <td>25.925926</td>\n",
       "      <td>7.407407</td>\n",
       "      <td>18.518519</td>\n",
       "      <td>29.629630</td>\n",
       "      <td>11.111111</td>\n",
       "      <td>7.407407</td>\n",
       "    </tr>\n",
       "  </tbody>\n",
       "</table>\n",
       "</div>"
      ],
      "text/plain": [
       "   annee  mois service     gare_depart          gare_arrivee  \\\n",
       "0   2018   3.0     NaN      STRASBOURG             PARIS EST   \n",
       "1   2018   3.0     NaN      PARIS NORD             DUNKERQUE   \n",
       "2   2018   3.0     NaN  LYON PART DIEU            PARIS LYON   \n",
       "3   2018   3.0     NaN      PARIS LYON                GENEVE   \n",
       "4   2018   8.0     NaN           LILLE  MARSEILLE ST CHARLES   \n",
       "\n",
       "   duree_moyenne_trajet  nbr_circulations_prevues  nbr_trains_annules  \\\n",
       "0            112.402439                     505.0                13.0   \n",
       "1            120.996310                     285.0                14.0   \n",
       "2            120.549770                     664.0                11.0   \n",
       "3            194.005000                     203.0                 3.0   \n",
       "4            309.389535                     173.0                 1.0   \n",
       "\n",
       "   commentaire_facultatif_annulations  nbr_trains_retard_depart  \\\n",
       "0                                 NaN                     250.0   \n",
       "1                                 NaN                      65.0   \n",
       "2                                 NaN                     404.0   \n",
       "3                                 NaN                      26.0   \n",
       "4                                 NaN                      46.0   \n",
       "\n",
       "   retard_moyen_trains_retard_depart__min  \\\n",
       "0                                7.831733   \n",
       "1                               18.206154   \n",
       "2                                5.177682   \n",
       "3                               10.032692   \n",
       "4                                6.396014   \n",
       "\n",
       "   retard_moyen_tous_les_trains_depart__min  \\\n",
       "0                                  4.039092   \n",
       "1                                  4.234379   \n",
       "2                                  3.318836   \n",
       "3                                  1.004250   \n",
       "4                                  1.819767   \n",
       "\n",
       "   commentaire_facultatif_retards_depart  nbr_trains_retard_arrivee  \\\n",
       "0                                    NaN                       81.0   \n",
       "1                                    NaN                       39.0   \n",
       "2                                    NaN                       56.0   \n",
       "3                                    NaN                       20.0   \n",
       "4                                    NaN                       37.0   \n",
       "\n",
       "   retard_moyen_trains_retard_arrivee__min  \\\n",
       "0                                29.802058   \n",
       "1                                41.282051   \n",
       "2                                23.882738   \n",
       "3                                24.045833   \n",
       "4                                37.442793   \n",
       "\n",
       "   retard_moyen_tous_les_trains_arrivee__min  \\\n",
       "0                                   5.754031   \n",
       "1                                   6.697417   \n",
       "2                                   2.210031   \n",
       "3                                   0.982500   \n",
       "4                                  10.442151   \n",
       "\n",
       "              commentaire_facultatif_retards_arrivee  \\\n",
       "0                                                NaN   \n",
       "1                                                NaN   \n",
       "2                                                NaN   \n",
       "3                                                NaN   \n",
       "4  Pendant les deux premières semaines d’août, le...   \n",
       "\n",
       "   pct_retard_causes_externes  pct_retard_cause_infrastructure_ferroviaire  \\\n",
       "0                    0.376623                                     0.155844   \n",
       "1                    0.307692                                     0.179487   \n",
       "2                    0.392157                                     0.058824   \n",
       "3                    0.250000                                     0.150000   \n",
       "4                    0.259259                                     0.074074   \n",
       "\n",
       "   pct_retard_cause_gestion_trafic  pct_retard_cause_materiel_roulant  \\\n",
       "0                         0.194805                           0.168831   \n",
       "1                         0.153846                           0.333333   \n",
       "2                         0.137255                           0.235294   \n",
       "3                         0.350000                           0.100000   \n",
       "4                         0.185185                           0.296296   \n",
       "\n",
       "   pct_retard_cause_gestion_en_gare  \\\n",
       "0                          0.064935   \n",
       "1                          0.025641   \n",
       "2                          0.156863   \n",
       "3                          0.150000   \n",
       "4                          0.111111   \n",
       "\n",
       "   pct_retard_cause_prise_en_compte_voyageurs  nbr_trains_15min  \\\n",
       "0                                    0.038961              64.0   \n",
       "1                                    0.000000              28.0   \n",
       "2                                    0.019608              39.0   \n",
       "3                                    0.000000              20.0   \n",
       "4                                    0.074074              37.0   \n",
       "\n",
       "   retard_moyen_trains_15min  nbr_trains_30min  nbr_trains_60min  periode  \\\n",
       "0                   5.754031              26.0               6.0  2018-03   \n",
       "1                   6.697417              19.0               7.0  2018-03   \n",
       "2                   2.210031              12.0               1.0  2018-03   \n",
       "3                   0.982500               4.0               0.0  2018-03   \n",
       "4                  10.442151              13.0               6.0  2018-08   \n",
       "\n",
       "   retard_causes_externes  retard_infrastructure_ferroviaire  \\\n",
       "0               37.662338                          15.584416   \n",
       "1               30.769231                          17.948718   \n",
       "2               39.215686                           5.882353   \n",
       "3               25.000000                          15.000000   \n",
       "4               25.925926                           7.407407   \n",
       "\n",
       "   retard_gestion_trafic  retard_materiel_roulant  \\\n",
       "0              19.480519                16.883117   \n",
       "1              15.384615                33.333333   \n",
       "2              13.725490                23.529412   \n",
       "3              35.000000                10.000000   \n",
       "4              18.518519                29.629630   \n",
       "\n",
       "   retard_gestion_en_gare_et_reutilisation_de_materiel  \\\n",
       "0                                           6.493506     \n",
       "1                                           2.564103     \n",
       "2                                          15.686275     \n",
       "3                                          15.000000     \n",
       "4                                          11.111111     \n",
       "\n",
       "   retard_prise_en_compte_voyageurs  \n",
       "0                          3.896104  \n",
       "1                          0.000000  \n",
       "2                          1.960784  \n",
       "3                          0.000000  \n",
       "4                          7.407407  "
      ]
     },
     "execution_count": 30,
     "metadata": {},
     "output_type": "execute_result"
    }
   ],
   "source": [
    "df.head()"
   ]
  },
  {
   "cell_type": "markdown",
   "metadata": {},
   "source": [
    "__Il semblerait que les colonnes sur le nombre de train et le pct de train soient redondantes__"
   ]
  },
  {
   "cell_type": "code",
   "execution_count": 31,
   "metadata": {
    "ExecuteTime": {
     "end_time": "2019-10-20T14:50:41.023044Z",
     "start_time": "2019-10-20T14:50:40.936553Z"
    }
   },
   "outputs": [
    {
     "name": "stdout",
     "output_type": "stream",
     "text": [
      "0.0\n",
      "0.0\n",
      "0.0\n"
     ]
    }
   ],
   "source": [
    "ser = df['pct_retard_cause_gestion_trafic'] * 100 - df['retard_gestion_trafic']\n",
    "print(np.round((ser).sum(),3))\n",
    "\n",
    "ser = df['pct_retard_causes_externes'] * 100 - df['retard_causes_externes']\n",
    "print(np.round((ser).sum(),3))\n",
    "\n",
    "ser = df['pct_retard_cause_materiel_roulant'] * 100 - df['retard_materiel_roulant']\n",
    "print(np.round((ser).sum(),3))"
   ]
  },
  {
   "cell_type": "markdown",
   "metadata": {},
   "source": [
    "Sur 3 essais, c'est plutot concluant. On décide donc de supprimer les colonnes avec nom à rallonge"
   ]
  },
  {
   "cell_type": "code",
   "execution_count": 32,
   "metadata": {
    "ExecuteTime": {
     "end_time": "2019-10-20T14:50:42.673783Z",
     "start_time": "2019-10-20T14:50:42.604859Z"
    }
   },
   "outputs": [],
   "source": [
    "drop_pct_double = [col for col in df.columns if 'pct_retard' in col]\n",
    "df = df.drop(drop_pct_double, axis=1)"
   ]
  },
  {
   "cell_type": "markdown",
   "metadata": {},
   "source": [
    "__Capture de la temporalité__"
   ]
  },
  {
   "cell_type": "code",
   "execution_count": 33,
   "metadata": {
    "ExecuteTime": {
     "end_time": "2019-10-20T14:50:43.752623Z",
     "start_time": "2019-10-20T14:50:43.696929Z"
    }
   },
   "outputs": [],
   "source": [
    "# Transformation de la colonne qui indique le datetime\n",
    "df['periode'] = pd.to_datetime(df['periode'],errors='raise')"
   ]
  },
  {
   "cell_type": "markdown",
   "metadata": {},
   "source": [
    "__Ordre des colonnes__"
   ]
  },
  {
   "cell_type": "code",
   "execution_count": 34,
   "metadata": {
    "ExecuteTime": {
     "end_time": "2019-10-20T14:50:45.355019Z",
     "start_time": "2019-10-20T14:50:45.296424Z"
    }
   },
   "outputs": [
    {
     "name": "stdout",
     "output_type": "stream",
     "text": [
      "annee\n",
      "mois\n",
      "service\n",
      "gare_depart\n",
      "gare_arrivee\n",
      "duree_moyenne_trajet\n",
      "nbr_circulations_prevues\n",
      "nbr_trains_annules\n",
      "commentaire_facultatif_annulations\n",
      "nbr_trains_retard_depart\n",
      "retard_moyen_trains_retard_depart__min\n",
      "retard_moyen_tous_les_trains_depart__min\n",
      "commentaire_facultatif_retards_depart\n",
      "nbr_trains_retard_arrivee\n",
      "retard_moyen_trains_retard_arrivee__min\n",
      "retard_moyen_tous_les_trains_arrivee__min\n",
      "commentaire_facultatif_retards_arrivee\n",
      "nbr_trains_15min\n",
      "retard_moyen_trains_15min\n",
      "nbr_trains_30min\n",
      "nbr_trains_60min\n",
      "periode\n",
      "retard_causes_externes\n",
      "retard_infrastructure_ferroviaire\n",
      "retard_gestion_trafic\n",
      "retard_materiel_roulant\n",
      "retard_gestion_en_gare_et_reutilisation_de_materiel\n",
      "retard_prise_en_compte_voyageurs\n"
     ]
    }
   ],
   "source": [
    "_ = [print(i) for i in df.columns]"
   ]
  },
  {
   "cell_type": "code",
   "execution_count": 34,
   "metadata": {
    "ExecuteTime": {
     "end_time": "2019-10-20T14:50:46.539847Z",
     "start_time": "2019-10-20T14:50:46.478888Z"
    }
   },
   "outputs": [],
   "source": []
  },
  {
   "cell_type": "code",
   "execution_count": null,
   "metadata": {},
   "outputs": [],
   "source": []
  },
  {
   "cell_type": "code",
   "execution_count": 36,
   "metadata": {
    "ExecuteTime": {
     "end_time": "2019-10-20T14:50:47.877062Z",
     "start_time": "2019-10-20T14:50:47.373720Z"
    }
   },
   "outputs": [],
   "source": [
    "def create_liaison(line):\n",
    "    dep = line['gare_depart']\n",
    "    arr = line['gare_arrivee']\n",
    "    trajet =[dep, arr]\n",
    "    trajet.sort()\n",
    "    liaison = '_'.join(trajet)\n",
    "    return liaison\n",
    "    \n",
    "    \n",
    "df['liaison'] = df.apply(create_liaison, axis=1)\n",
    "df['liaison_id'], _ = encode_serie(df['liaison'])\n",
    "del(df['liaison'])"
   ]
  },
  {
   "cell_type": "code",
   "execution_count": 37,
   "metadata": {
    "ExecuteTime": {
     "end_time": "2019-10-20T14:50:48.894494Z",
     "start_time": "2019-10-20T14:50:48.825210Z"
    }
   },
   "outputs": [
    {
     "name": "stdout",
     "output_type": "stream",
     "text": [
      "DF reshaped\n"
     ]
    }
   ],
   "source": [
    "# Réorganisation\n",
    "keys= ['periode', 'annee', 'mois', 'gare_depart', 'gare_arrivee', 'liaison_id']\n",
    "nbr_train = ['nbr_circulations_prevues', 'nbr_trains_annules', 'nbr_trains_retard_depart', 'nbr_trains_retard_arrivee', 'nbr_trains_15min', 'nbr_trains_30min', 'nbr_trains_60min']\n",
    "duree = ['duree_moyenne_trajet', 'retard_moyen_trains_retard_depart__min', 'retard_moyen_tous_les_trains_depart__min', 'retard_moyen_trains_retard_arrivee__min', 'retard_moyen_tous_les_trains_arrivee__min', 'retard_moyen_trains_15min']\n",
    "cause = ['retard_causes_externes', 'retard_infrastructure_ferroviaire', 'retard_gestion_trafic', 'retard_materiel_roulant', 'retard_gestion_en_gare_et_reutilisation_de_materiel', 'retard_prise_en_compte_voyageurs']\n",
    "comments =  ['service', 'commentaire_facultatif_annulations', 'commentaire_facultatif_retards_depart', 'commentaire_facultatif_retards_arrivee']\n",
    "\n",
    "df_reshape = df[keys + nbr_train + duree + cause + comments]\n",
    "if df_reshape.shape == df.shape:\n",
    "    df = df_reshape.copy()\n",
    "    del(df_reshape)\n",
    "    print('DF reshaped')\n",
    "else:\n",
    "    print('The number of columns does not match')\n",
    "    print('Initial df {}, VS. Reshaped df {}'.format(df.shape, df_reshape.shape))\n",
    "    "
   ]
  },
  {
   "cell_type": "code",
   "execution_count": 38,
   "metadata": {
    "ExecuteTime": {
     "end_time": "2019-10-20T14:50:49.865529Z",
     "start_time": "2019-10-20T14:50:49.752379Z"
    }
   },
   "outputs": [
    {
     "data": {
      "text/html": [
       "<div>\n",
       "<style scoped>\n",
       "    .dataframe tbody tr th:only-of-type {\n",
       "        vertical-align: middle;\n",
       "    }\n",
       "\n",
       "    .dataframe tbody tr th {\n",
       "        vertical-align: top;\n",
       "    }\n",
       "\n",
       "    .dataframe thead th {\n",
       "        text-align: right;\n",
       "    }\n",
       "</style>\n",
       "<table border=\"1\" class=\"dataframe\">\n",
       "  <thead>\n",
       "    <tr style=\"text-align: right;\">\n",
       "      <th></th>\n",
       "      <th>periode</th>\n",
       "      <th>annee</th>\n",
       "      <th>mois</th>\n",
       "      <th>gare_depart</th>\n",
       "      <th>gare_arrivee</th>\n",
       "      <th>liaison_id</th>\n",
       "      <th>nbr_circulations_prevues</th>\n",
       "      <th>nbr_trains_annules</th>\n",
       "      <th>nbr_trains_retard_depart</th>\n",
       "      <th>nbr_trains_retard_arrivee</th>\n",
       "      <th>nbr_trains_15min</th>\n",
       "      <th>nbr_trains_30min</th>\n",
       "      <th>nbr_trains_60min</th>\n",
       "      <th>duree_moyenne_trajet</th>\n",
       "      <th>retard_moyen_trains_retard_depart__min</th>\n",
       "      <th>retard_moyen_tous_les_trains_depart__min</th>\n",
       "      <th>retard_moyen_trains_retard_arrivee__min</th>\n",
       "      <th>retard_moyen_tous_les_trains_arrivee__min</th>\n",
       "      <th>retard_moyen_trains_15min</th>\n",
       "      <th>retard_causes_externes</th>\n",
       "      <th>retard_infrastructure_ferroviaire</th>\n",
       "      <th>retard_gestion_trafic</th>\n",
       "      <th>retard_materiel_roulant</th>\n",
       "      <th>retard_gestion_en_gare_et_reutilisation_de_materiel</th>\n",
       "      <th>retard_prise_en_compte_voyageurs</th>\n",
       "      <th>service</th>\n",
       "      <th>commentaire_facultatif_annulations</th>\n",
       "      <th>commentaire_facultatif_retards_depart</th>\n",
       "      <th>commentaire_facultatif_retards_arrivee</th>\n",
       "    </tr>\n",
       "  </thead>\n",
       "  <tbody>\n",
       "    <tr>\n",
       "      <th>0</th>\n",
       "      <td>2015-01-01</td>\n",
       "      <td>2015</td>\n",
       "      <td>1.0</td>\n",
       "      <td>PARIS LYON</td>\n",
       "      <td>AIX EN PROVENCE TGV</td>\n",
       "      <td>0</td>\n",
       "      <td>419.0</td>\n",
       "      <td>5.0</td>\n",
       "      <td>18.0</td>\n",
       "      <td>32.0</td>\n",
       "      <td>31.0</td>\n",
       "      <td>13.0</td>\n",
       "      <td>6.0</td>\n",
       "      <td>181.435990</td>\n",
       "      <td>16.666667</td>\n",
       "      <td>0.886473</td>\n",
       "      <td>40.750000</td>\n",
       "      <td>4.652174</td>\n",
       "      <td>41.677419</td>\n",
       "      <td>46.666667</td>\n",
       "      <td>13.333333</td>\n",
       "      <td>10.000000</td>\n",
       "      <td>20.000000</td>\n",
       "      <td>6.666667</td>\n",
       "      <td>3.333333</td>\n",
       "      <td>National</td>\n",
       "      <td>NaN</td>\n",
       "      <td>NaN</td>\n",
       "      <td>5 collisions avec des animaux sauvages sur la ...</td>\n",
       "    </tr>\n",
       "    <tr>\n",
       "      <th>1</th>\n",
       "      <td>2015-01-01</td>\n",
       "      <td>2015</td>\n",
       "      <td>1.0</td>\n",
       "      <td>AIX EN PROVENCE TGV</td>\n",
       "      <td>PARIS LYON</td>\n",
       "      <td>0</td>\n",
       "      <td>432.0</td>\n",
       "      <td>2.0</td>\n",
       "      <td>34.0</td>\n",
       "      <td>37.0</td>\n",
       "      <td>35.0</td>\n",
       "      <td>19.0</td>\n",
       "      <td>4.0</td>\n",
       "      <td>182.373256</td>\n",
       "      <td>26.058824</td>\n",
       "      <td>2.865116</td>\n",
       "      <td>44.108108</td>\n",
       "      <td>3.069767</td>\n",
       "      <td>45.971429</td>\n",
       "      <td>31.250000</td>\n",
       "      <td>15.625000</td>\n",
       "      <td>9.375000</td>\n",
       "      <td>21.875000</td>\n",
       "      <td>12.500000</td>\n",
       "      <td>9.375000</td>\n",
       "      <td>National</td>\n",
       "      <td>NaN</td>\n",
       "      <td>NaN</td>\n",
       "      <td>5 collisions avec des animaux sauvages sur la ...</td>\n",
       "    </tr>\n",
       "    <tr>\n",
       "      <th>2</th>\n",
       "      <td>2015-01-01</td>\n",
       "      <td>2015</td>\n",
       "      <td>1.0</td>\n",
       "      <td>ANGERS SAINT LAUD</td>\n",
       "      <td>PARIS MONTPARNASSE</td>\n",
       "      <td>1</td>\n",
       "      <td>435.0</td>\n",
       "      <td>1.0</td>\n",
       "      <td>42.0</td>\n",
       "      <td>24.0</td>\n",
       "      <td>14.0</td>\n",
       "      <td>2.0</td>\n",
       "      <td>1.0</td>\n",
       "      <td>98.857143</td>\n",
       "      <td>9.523810</td>\n",
       "      <td>1.758065</td>\n",
       "      <td>22.000000</td>\n",
       "      <td>1.695853</td>\n",
       "      <td>27.714286</td>\n",
       "      <td>29.166667</td>\n",
       "      <td>37.500000</td>\n",
       "      <td>16.666667</td>\n",
       "      <td>4.166667</td>\n",
       "      <td>8.333333</td>\n",
       "      <td>4.166667</td>\n",
       "      <td>National</td>\n",
       "      <td>NaN</td>\n",
       "      <td>NaN</td>\n",
       "      <td>NaN</td>\n",
       "    </tr>\n",
       "    <tr>\n",
       "      <th>3</th>\n",
       "      <td>2015-01-01</td>\n",
       "      <td>2015</td>\n",
       "      <td>1.0</td>\n",
       "      <td>PARIS MONTPARNASSE</td>\n",
       "      <td>ANGERS SAINT LAUD</td>\n",
       "      <td>1</td>\n",
       "      <td>406.0</td>\n",
       "      <td>0.0</td>\n",
       "      <td>8.0</td>\n",
       "      <td>19.0</td>\n",
       "      <td>13.0</td>\n",
       "      <td>5.0</td>\n",
       "      <td>1.0</td>\n",
       "      <td>96.050493</td>\n",
       "      <td>20.875000</td>\n",
       "      <td>0.546798</td>\n",
       "      <td>25.684211</td>\n",
       "      <td>2.029557</td>\n",
       "      <td>31.692308</td>\n",
       "      <td>47.368421</td>\n",
       "      <td>10.526316</td>\n",
       "      <td>5.263158</td>\n",
       "      <td>31.578947</td>\n",
       "      <td>5.263158</td>\n",
       "      <td>0.000000</td>\n",
       "      <td>National</td>\n",
       "      <td>NaN</td>\n",
       "      <td>NaN</td>\n",
       "      <td>NaN</td>\n",
       "    </tr>\n",
       "    <tr>\n",
       "      <th>4</th>\n",
       "      <td>2015-01-01</td>\n",
       "      <td>2015</td>\n",
       "      <td>1.0</td>\n",
       "      <td>PARIS MONTPARNASSE</td>\n",
       "      <td>ANGOULEME</td>\n",
       "      <td>2</td>\n",
       "      <td>313.0</td>\n",
       "      <td>0.0</td>\n",
       "      <td>6.0</td>\n",
       "      <td>24.0</td>\n",
       "      <td>17.0</td>\n",
       "      <td>10.0</td>\n",
       "      <td>5.0</td>\n",
       "      <td>155.835463</td>\n",
       "      <td>23.166667</td>\n",
       "      <td>0.610224</td>\n",
       "      <td>42.916667</td>\n",
       "      <td>3.773163</td>\n",
       "      <td>55.411765</td>\n",
       "      <td>33.333333</td>\n",
       "      <td>27.777778</td>\n",
       "      <td>16.666667</td>\n",
       "      <td>22.222222</td>\n",
       "      <td>0.000000</td>\n",
       "      <td>0.000000</td>\n",
       "      <td>National</td>\n",
       "      <td>NaN</td>\n",
       "      <td>NaN</td>\n",
       "      <td>La ligne a été impactée par des incidents exte...</td>\n",
       "    </tr>\n",
       "  </tbody>\n",
       "</table>\n",
       "</div>"
      ],
      "text/plain": [
       "     periode  annee  mois          gare_depart         gare_arrivee  \\\n",
       "0 2015-01-01   2015   1.0           PARIS LYON  AIX EN PROVENCE TGV   \n",
       "1 2015-01-01   2015   1.0  AIX EN PROVENCE TGV           PARIS LYON   \n",
       "2 2015-01-01   2015   1.0    ANGERS SAINT LAUD   PARIS MONTPARNASSE   \n",
       "3 2015-01-01   2015   1.0   PARIS MONTPARNASSE    ANGERS SAINT LAUD   \n",
       "4 2015-01-01   2015   1.0   PARIS MONTPARNASSE            ANGOULEME   \n",
       "\n",
       "   liaison_id  nbr_circulations_prevues  nbr_trains_annules  \\\n",
       "0           0                     419.0                 5.0   \n",
       "1           0                     432.0                 2.0   \n",
       "2           1                     435.0                 1.0   \n",
       "3           1                     406.0                 0.0   \n",
       "4           2                     313.0                 0.0   \n",
       "\n",
       "   nbr_trains_retard_depart  nbr_trains_retard_arrivee  nbr_trains_15min  \\\n",
       "0                      18.0                       32.0              31.0   \n",
       "1                      34.0                       37.0              35.0   \n",
       "2                      42.0                       24.0              14.0   \n",
       "3                       8.0                       19.0              13.0   \n",
       "4                       6.0                       24.0              17.0   \n",
       "\n",
       "   nbr_trains_30min  nbr_trains_60min  duree_moyenne_trajet  \\\n",
       "0              13.0               6.0            181.435990   \n",
       "1              19.0               4.0            182.373256   \n",
       "2               2.0               1.0             98.857143   \n",
       "3               5.0               1.0             96.050493   \n",
       "4              10.0               5.0            155.835463   \n",
       "\n",
       "   retard_moyen_trains_retard_depart__min  \\\n",
       "0                               16.666667   \n",
       "1                               26.058824   \n",
       "2                                9.523810   \n",
       "3                               20.875000   \n",
       "4                               23.166667   \n",
       "\n",
       "   retard_moyen_tous_les_trains_depart__min  \\\n",
       "0                                  0.886473   \n",
       "1                                  2.865116   \n",
       "2                                  1.758065   \n",
       "3                                  0.546798   \n",
       "4                                  0.610224   \n",
       "\n",
       "   retard_moyen_trains_retard_arrivee__min  \\\n",
       "0                                40.750000   \n",
       "1                                44.108108   \n",
       "2                                22.000000   \n",
       "3                                25.684211   \n",
       "4                                42.916667   \n",
       "\n",
       "   retard_moyen_tous_les_trains_arrivee__min  retard_moyen_trains_15min  \\\n",
       "0                                   4.652174                  41.677419   \n",
       "1                                   3.069767                  45.971429   \n",
       "2                                   1.695853                  27.714286   \n",
       "3                                   2.029557                  31.692308   \n",
       "4                                   3.773163                  55.411765   \n",
       "\n",
       "   retard_causes_externes  retard_infrastructure_ferroviaire  \\\n",
       "0               46.666667                          13.333333   \n",
       "1               31.250000                          15.625000   \n",
       "2               29.166667                          37.500000   \n",
       "3               47.368421                          10.526316   \n",
       "4               33.333333                          27.777778   \n",
       "\n",
       "   retard_gestion_trafic  retard_materiel_roulant  \\\n",
       "0              10.000000                20.000000   \n",
       "1               9.375000                21.875000   \n",
       "2              16.666667                 4.166667   \n",
       "3               5.263158                31.578947   \n",
       "4              16.666667                22.222222   \n",
       "\n",
       "   retard_gestion_en_gare_et_reutilisation_de_materiel  \\\n",
       "0                                           6.666667     \n",
       "1                                          12.500000     \n",
       "2                                           8.333333     \n",
       "3                                           5.263158     \n",
       "4                                           0.000000     \n",
       "\n",
       "   retard_prise_en_compte_voyageurs   service  \\\n",
       "0                          3.333333  National   \n",
       "1                          9.375000  National   \n",
       "2                          4.166667  National   \n",
       "3                          0.000000  National   \n",
       "4                          0.000000  National   \n",
       "\n",
       "   commentaire_facultatif_annulations  commentaire_facultatif_retards_depart  \\\n",
       "0                                 NaN                                    NaN   \n",
       "1                                 NaN                                    NaN   \n",
       "2                                 NaN                                    NaN   \n",
       "3                                 NaN                                    NaN   \n",
       "4                                 NaN                                    NaN   \n",
       "\n",
       "              commentaire_facultatif_retards_arrivee  \n",
       "0  5 collisions avec des animaux sauvages sur la ...  \n",
       "1  5 collisions avec des animaux sauvages sur la ...  \n",
       "2                                                NaN  \n",
       "3                                                NaN  \n",
       "4  La ligne a été impactée par des incidents exte...  "
      ]
     },
     "execution_count": 38,
     "metadata": {},
     "output_type": "execute_result"
    }
   ],
   "source": [
    "df = df.sort_values(by=['periode', 'liaison_id']).reset_index(drop=True)\n",
    "df.head()"
   ]
  },
  {
   "cell_type": "code",
   "execution_count": 39,
   "metadata": {},
   "outputs": [],
   "source": [
    "f.save_pickle(df, 'dash_first_try.p')"
   ]
  },
  {
   "cell_type": "code",
   "execution_count": 42,
   "metadata": {},
   "outputs": [],
   "source": [
    "df = f.load_pickle('dash_first_try.p')"
   ]
  },
  {
   "cell_type": "code",
   "execution_count": 10,
   "metadata": {},
   "outputs": [
    {
     "data": {
      "text/html": [
       "<div>\n",
       "<style scoped>\n",
       "    .dataframe tbody tr th:only-of-type {\n",
       "        vertical-align: middle;\n",
       "    }\n",
       "\n",
       "    .dataframe tbody tr th {\n",
       "        vertical-align: top;\n",
       "    }\n",
       "\n",
       "    .dataframe thead th {\n",
       "        text-align: right;\n",
       "    }\n",
       "</style>\n",
       "<table border=\"1\" class=\"dataframe\">\n",
       "  <thead>\n",
       "    <tr style=\"text-align: right;\">\n",
       "      <th></th>\n",
       "      <th>gare_depart</th>\n",
       "      <th>gare_arrivee</th>\n",
       "    </tr>\n",
       "  </thead>\n",
       "  <tbody>\n",
       "    <tr>\n",
       "      <th>0</th>\n",
       "      <td>PARIS LYON</td>\n",
       "      <td>AIX EN PROVENCE TGV</td>\n",
       "    </tr>\n",
       "    <tr>\n",
       "      <th>6</th>\n",
       "      <td>PARIS LYON</td>\n",
       "      <td>ANNECY</td>\n",
       "    </tr>\n",
       "    <tr>\n",
       "      <th>11</th>\n",
       "      <td>PARIS LYON</td>\n",
       "      <td>AVIGNON TGV</td>\n",
       "    </tr>\n",
       "    <tr>\n",
       "      <th>4045</th>\n",
       "      <td>PARIS LYON</td>\n",
       "      <td>BARCELONA</td>\n",
       "    </tr>\n",
       "    <tr>\n",
       "      <th>12</th>\n",
       "      <td>PARIS LYON</td>\n",
       "      <td>BELLEGARDE (AIN)</td>\n",
       "    </tr>\n",
       "    <tr>\n",
       "      <th>14</th>\n",
       "      <td>PARIS LYON</td>\n",
       "      <td>BESANCON FRANCHE COMTE TGV</td>\n",
       "    </tr>\n",
       "    <tr>\n",
       "      <th>20</th>\n",
       "      <td>PARIS LYON</td>\n",
       "      <td>CHAMBERY CHALLES LES EAUX</td>\n",
       "    </tr>\n",
       "    <tr>\n",
       "      <th>22</th>\n",
       "      <td>PARIS LYON</td>\n",
       "      <td>DIJON VILLE</td>\n",
       "    </tr>\n",
       "    <tr>\n",
       "      <th>31</th>\n",
       "      <td>PARIS LYON</td>\n",
       "      <td>GENEVE</td>\n",
       "    </tr>\n",
       "    <tr>\n",
       "      <th>32</th>\n",
       "      <td>PARIS LYON</td>\n",
       "      <td>GRENOBLE</td>\n",
       "    </tr>\n",
       "    <tr>\n",
       "      <th>34</th>\n",
       "      <td>PARIS LYON</td>\n",
       "      <td>ITALIE</td>\n",
       "    </tr>\n",
       "    <tr>\n",
       "      <th>38</th>\n",
       "      <td>PARIS LYON</td>\n",
       "      <td>LAUSANNE</td>\n",
       "    </tr>\n",
       "    <tr>\n",
       "      <th>42</th>\n",
       "      <td>PARIS LYON</td>\n",
       "      <td>LE CREUSOT MONTCEAU MONTCHANIN</td>\n",
       "    </tr>\n",
       "    <tr>\n",
       "      <th>57</th>\n",
       "      <td>PARIS LYON</td>\n",
       "      <td>LYON PART DIEU</td>\n",
       "    </tr>\n",
       "    <tr>\n",
       "      <th>61</th>\n",
       "      <td>PARIS LYON</td>\n",
       "      <td>MACON LOCHE</td>\n",
       "    </tr>\n",
       "    <tr>\n",
       "      <th>62</th>\n",
       "      <td>PARIS LYON</td>\n",
       "      <td>MARSEILLE ST CHARLES</td>\n",
       "    </tr>\n",
       "    <tr>\n",
       "      <th>66</th>\n",
       "      <td>PARIS LYON</td>\n",
       "      <td>MONTPELLIER</td>\n",
       "    </tr>\n",
       "    <tr>\n",
       "      <th>69</th>\n",
       "      <td>PARIS LYON</td>\n",
       "      <td>MULHOUSE VILLE</td>\n",
       "    </tr>\n",
       "    <tr>\n",
       "      <th>76</th>\n",
       "      <td>PARIS LYON</td>\n",
       "      <td>NICE VILLE</td>\n",
       "    </tr>\n",
       "    <tr>\n",
       "      <th>78</th>\n",
       "      <td>PARIS LYON</td>\n",
       "      <td>NIMES</td>\n",
       "    </tr>\n",
       "    <tr>\n",
       "      <th>86</th>\n",
       "      <td>PARIS LYON</td>\n",
       "      <td>PERPIGNAN</td>\n",
       "    </tr>\n",
       "    <tr>\n",
       "      <th>89</th>\n",
       "      <td>PARIS LYON</td>\n",
       "      <td>SAINT ETIENNE CHATEAUCREUX</td>\n",
       "    </tr>\n",
       "    <tr>\n",
       "      <th>91</th>\n",
       "      <td>PARIS LYON</td>\n",
       "      <td>TOULON</td>\n",
       "    </tr>\n",
       "    <tr>\n",
       "      <th>92</th>\n",
       "      <td>PARIS LYON</td>\n",
       "      <td>VALENCE ALIXAN TGV</td>\n",
       "    </tr>\n",
       "    <tr>\n",
       "      <th>94</th>\n",
       "      <td>PARIS LYON</td>\n",
       "      <td>ZURICH</td>\n",
       "    </tr>\n",
       "  </tbody>\n",
       "</table>\n",
       "</div>"
      ],
      "text/plain": [
       "     gare_depart                    gare_arrivee\n",
       "0     PARIS LYON             AIX EN PROVENCE TGV\n",
       "6     PARIS LYON                          ANNECY\n",
       "11    PARIS LYON                     AVIGNON TGV\n",
       "4045  PARIS LYON                       BARCELONA\n",
       "12    PARIS LYON                BELLEGARDE (AIN)\n",
       "14    PARIS LYON      BESANCON FRANCHE COMTE TGV\n",
       "20    PARIS LYON       CHAMBERY CHALLES LES EAUX\n",
       "22    PARIS LYON                     DIJON VILLE\n",
       "31    PARIS LYON                          GENEVE\n",
       "32    PARIS LYON                        GRENOBLE\n",
       "34    PARIS LYON                          ITALIE\n",
       "38    PARIS LYON                        LAUSANNE\n",
       "42    PARIS LYON  LE CREUSOT MONTCEAU MONTCHANIN\n",
       "57    PARIS LYON                  LYON PART DIEU\n",
       "61    PARIS LYON                     MACON LOCHE\n",
       "62    PARIS LYON            MARSEILLE ST CHARLES\n",
       "66    PARIS LYON                     MONTPELLIER\n",
       "69    PARIS LYON                  MULHOUSE VILLE\n",
       "76    PARIS LYON                      NICE VILLE\n",
       "78    PARIS LYON                           NIMES\n",
       "86    PARIS LYON                       PERPIGNAN\n",
       "89    PARIS LYON      SAINT ETIENNE CHATEAUCREUX\n",
       "91    PARIS LYON                          TOULON\n",
       "92    PARIS LYON              VALENCE ALIXAN TGV\n",
       "94    PARIS LYON                          ZURICH"
      ]
     },
     "execution_count": 10,
     "metadata": {},
     "output_type": "execute_result"
    }
   ],
   "source": [
    "gare = df['gare_depart'].unique()[0]\n",
    "gare\n",
    "\n",
    "\n",
    "tmp = df[['gare_depart', 'gare_arrivee']].drop_duplicates().sort_values(by=['gare_depart', 'gare_arrivee'])\n",
    "tmp = tmp[tmp['gare_depart']==gare]\n",
    "tmp"
   ]
  },
  {
   "cell_type": "code",
   "execution_count": 11,
   "metadata": {},
   "outputs": [
    {
     "name": "stdout",
     "output_type": "stream",
     "text": [
      "BREST\n"
     ]
    },
    {
     "data": {
      "text/plain": [
       "array(['PARIS MONTPARNASSE'], dtype=object)"
      ]
     },
     "execution_count": 11,
     "metadata": {},
     "output_type": "execute_result"
    }
   ],
   "source": [
    "# Explotitation des fonctions de selection\n",
    "gare = f.get_gare(df, 10, True)\n",
    "f.get_gare_complement(df, gare)"
   ]
  },
  {
   "cell_type": "code",
   "execution_count": null,
   "metadata": {},
   "outputs": [],
   "source": []
  },
  {
   "cell_type": "code",
   "execution_count": 12,
   "metadata": {},
   "outputs": [
    {
     "data": {
      "text/plain": [
       "Timestamp('2019-07-01 00:00:00')"
      ]
     },
     "execution_count": 12,
     "metadata": {},
     "output_type": "execute_result"
    }
   ],
   "source": [
    "df['periode'].max()"
   ]
  },
  {
   "cell_type": "markdown",
   "metadata": {},
   "source": [
    "# Basic exploration"
   ]
  },
  {
   "cell_type": "code",
   "execution_count": 13,
   "metadata": {
    "ExecuteTime": {
     "end_time": "2019-10-20T14:50:52.894125Z",
     "start_time": "2019-10-20T14:50:52.835579Z"
    }
   },
   "outputs": [
    {
     "data": {
      "text/plain": [
       "0   -32.0\n",
       "1   -24.0\n",
       "2    25.0\n",
       "3   -11.0\n",
       "4   -26.0\n",
       "dtype: float64"
      ]
     },
     "execution_count": 13,
     "metadata": {},
     "output_type": "execute_result"
    }
   ],
   "source": [
    "(df['nbr_trains_retard_depart']-df['nbr_trains_15min']-df['nbr_trains_30min']-df['nbr_trains_60min']).head()"
   ]
  },
  {
   "cell_type": "code",
   "execution_count": 14,
   "metadata": {
    "ExecuteTime": {
     "end_time": "2019-10-20T14:50:53.946228Z",
     "start_time": "2019-10-20T14:50:53.872935Z"
    }
   },
   "outputs": [
    {
     "data": {
      "text/plain": [
       "array(['AIX EN PROVENCE TGV', 'ANGERS SAINT LAUD', 'ANGOULEME', 'ANNECY',\n",
       "       'ARRAS', 'AVIGNON TGV', 'BARCELONA', 'BELLEGARDE (AIN)',\n",
       "       'BESANCON FRANCHE COMTE TGV', 'BORDEAUX ST JEAN', 'BREST',\n",
       "       'CHAMBERY CHALLES LES EAUX', 'DIJON VILLE', 'DOUAI', 'DUNKERQUE',\n",
       "       'FRANCFORT', 'GENEVE', 'GRENOBLE', 'ITALIE', 'LA ROCHELLE VILLE',\n",
       "       'LAUSANNE', 'LAVAL', 'LE CREUSOT MONTCEAU MONTCHANIN', 'LE MANS',\n",
       "       'LILLE', 'LYON PART DIEU', 'MACON LOCHE', 'MADRID',\n",
       "       'MARNE LA VALLEE', 'MARSEILLE ST CHARLES', 'METZ', 'MONTPELLIER',\n",
       "       'MULHOUSE VILLE', 'NANCY', 'NANTES', 'NICE VILLE', 'NIMES',\n",
       "       'PARIS EST', 'PARIS LYON', 'PARIS MONTPARNASSE', 'PARIS NORD',\n",
       "       'PARIS VAUGIRARD', 'PERPIGNAN', 'POITIERS', 'QUIMPER', 'REIMS',\n",
       "       'RENNES', 'SAINT ETIENNE CHATEAUCREUX', 'ST MALO',\n",
       "       'ST PIERRE DES CORPS', 'STRASBOURG', 'STUTTGART', 'TOULON',\n",
       "       'TOULOUSE MATABIAU', 'TOURCOING', 'TOURS', 'VALENCE ALIXAN TGV',\n",
       "       'VANNES', 'ZURICH'], dtype=object)"
      ]
     },
     "execution_count": 14,
     "metadata": {},
     "output_type": "execute_result"
    }
   ],
   "source": [
    "df['gare_depart'].sort_values().unique()"
   ]
  },
  {
   "cell_type": "code",
   "execution_count": 15,
   "metadata": {
    "ExecuteTime": {
     "end_time": "2019-10-20T14:50:54.999764Z",
     "start_time": "2019-10-20T14:50:54.937893Z"
    }
   },
   "outputs": [
    {
     "data": {
      "text/plain": [
       "array(['AIX EN PROVENCE TGV', 'ANGERS SAINT LAUD', 'ANGOULEME', 'ANNECY',\n",
       "       'ARRAS', 'AVIGNON TGV', 'BARCELONA', 'BELLEGARDE (AIN)',\n",
       "       'BESANCON FRANCHE COMTE TGV', 'BORDEAUX ST JEAN', 'BREST',\n",
       "       'CHAMBERY CHALLES LES EAUX', 'DIJON VILLE', 'DOUAI', 'DUNKERQUE',\n",
       "       'FRANCFORT', 'GENEVE', 'GRENOBLE', 'ITALIE', 'LA ROCHELLE VILLE',\n",
       "       'LAUSANNE', 'LAVAL', 'LE CREUSOT MONTCEAU MONTCHANIN', 'LE MANS',\n",
       "       'LILLE', 'LYON PART DIEU', 'MACON LOCHE', 'MADRID',\n",
       "       'MARNE LA VALLEE', 'MARSEILLE ST CHARLES', 'METZ', 'MONTPELLIER',\n",
       "       'MULHOUSE VILLE', 'NANCY', 'NANTES', 'NICE VILLE', 'NIMES',\n",
       "       'PARIS EST', 'PARIS LYON', 'PARIS MONTPARNASSE', 'PARIS NORD',\n",
       "       'PARIS VAUGIRARD', 'PERPIGNAN', 'POITIERS', 'QUIMPER', 'REIMS',\n",
       "       'RENNES', 'SAINT ETIENNE CHATEAUCREUX', 'ST MALO',\n",
       "       'ST PIERRE DES CORPS', 'STRASBOURG', 'STUTTGART', 'TOULON',\n",
       "       'TOULOUSE MATABIAU', 'TOURCOING', 'TOURS', 'VALENCE ALIXAN TGV',\n",
       "       'VANNES', 'ZURICH'], dtype=object)"
      ]
     },
     "execution_count": 15,
     "metadata": {},
     "output_type": "execute_result"
    }
   ],
   "source": [
    "df['gare_arrivee'].sort_values().unique()"
   ]
  },
  {
   "cell_type": "code",
   "execution_count": 16,
   "metadata": {
    "ExecuteTime": {
     "end_time": "2019-10-20T14:50:56.006151Z",
     "start_time": "2019-10-20T14:50:55.903382Z"
    }
   },
   "outputs": [
    {
     "data": {
      "text/plain": [
       "0"
      ]
     },
     "execution_count": 16,
     "metadata": {},
     "output_type": "execute_result"
    }
   ],
   "source": [
    "# Toutes les gares sont indentiques dans depart et arrivee\n",
    "(df['gare_arrivee'].sort_values().unique()!=df['gare_depart'].sort_values().unique()).sum()"
   ]
  },
  {
   "cell_type": "code",
   "execution_count": 17,
   "metadata": {
    "ExecuteTime": {
     "end_time": "2019-10-20T14:50:57.034839Z",
     "start_time": "2019-10-20T14:50:56.962143Z"
    }
   },
   "outputs": [
    {
     "data": {
      "text/html": [
       "<div>\n",
       "<style scoped>\n",
       "    .dataframe tbody tr th:only-of-type {\n",
       "        vertical-align: middle;\n",
       "    }\n",
       "\n",
       "    .dataframe tbody tr th {\n",
       "        vertical-align: top;\n",
       "    }\n",
       "\n",
       "    .dataframe thead th {\n",
       "        text-align: right;\n",
       "    }\n",
       "</style>\n",
       "<table border=\"1\" class=\"dataframe\">\n",
       "  <thead>\n",
       "    <tr style=\"text-align: right;\">\n",
       "      <th></th>\n",
       "      <th></th>\n",
       "      <th>nbr_trains_annules</th>\n",
       "      <th>retard_moyen_trains_retard_depart__min</th>\n",
       "    </tr>\n",
       "    <tr>\n",
       "      <th>gare_depart</th>\n",
       "      <th>gare_arrivee</th>\n",
       "      <th></th>\n",
       "      <th></th>\n",
       "    </tr>\n",
       "  </thead>\n",
       "  <tbody>\n",
       "    <tr>\n",
       "      <th>GRENOBLE</th>\n",
       "      <th>PARIS LYON</th>\n",
       "      <td>290.0</td>\n",
       "      <td>28.873930</td>\n",
       "    </tr>\n",
       "    <tr>\n",
       "      <th>QUIMPER</th>\n",
       "      <th>PARIS MONTPARNASSE</th>\n",
       "      <td>343.0</td>\n",
       "      <td>26.304040</td>\n",
       "    </tr>\n",
       "    <tr>\n",
       "      <th>NANTES</th>\n",
       "      <th>PARIS VAUGIRARD</th>\n",
       "      <td>0.0</td>\n",
       "      <td>22.461843</td>\n",
       "    </tr>\n",
       "    <tr>\n",
       "      <th rowspan=\"2\" valign=\"top\">PARIS LYON</th>\n",
       "      <th>ITALIE</th>\n",
       "      <td>113.0</td>\n",
       "      <td>22.273585</td>\n",
       "    </tr>\n",
       "    <tr>\n",
       "      <th>BARCELONA</th>\n",
       "      <td>32.0</td>\n",
       "      <td>21.326621</td>\n",
       "    </tr>\n",
       "  </tbody>\n",
       "</table>\n",
       "</div>"
      ],
      "text/plain": [
       "                                nbr_trains_annules  \\\n",
       "gare_depart gare_arrivee                             \n",
       "GRENOBLE    PARIS LYON                       290.0   \n",
       "QUIMPER     PARIS MONTPARNASSE               343.0   \n",
       "NANTES      PARIS VAUGIRARD                    0.0   \n",
       "PARIS LYON  ITALIE                           113.0   \n",
       "            BARCELONA                         32.0   \n",
       "\n",
       "                                retard_moyen_trains_retard_depart__min  \n",
       "gare_depart gare_arrivee                                                \n",
       "GRENOBLE    PARIS LYON                                       28.873930  \n",
       "QUIMPER     PARIS MONTPARNASSE                               26.304040  \n",
       "NANTES      PARIS VAUGIRARD                                  22.461843  \n",
       "PARIS LYON  ITALIE                                           22.273585  \n",
       "            BARCELONA                                        21.326621  "
      ]
     },
     "execution_count": 17,
     "metadata": {},
     "output_type": "execute_result"
    }
   ],
   "source": [
    "(df.groupby(['gare_depart' , 'gare_arrivee'])\n",
    " .agg({'nbr_trains_annules':'sum',\n",
    "       'retard_moyen_trains_retard_depart__min':'mean'\n",
    "      })\n",
    " .sort_values(by='retard_moyen_trains_retard_depart__min', ascending=False)\n",
    " .head()\n",
    ")"
   ]
  },
  {
   "cell_type": "code",
   "execution_count": 18,
   "metadata": {
    "ExecuteTime": {
     "end_time": "2019-10-20T14:50:58.086723Z",
     "start_time": "2019-10-20T14:50:57.967013Z"
    }
   },
   "outputs": [
    {
     "data": {
      "text/html": [
       "<div>\n",
       "<style scoped>\n",
       "    .dataframe tbody tr th:only-of-type {\n",
       "        vertical-align: middle;\n",
       "    }\n",
       "\n",
       "    .dataframe tbody tr th {\n",
       "        vertical-align: top;\n",
       "    }\n",
       "\n",
       "    .dataframe thead th {\n",
       "        text-align: right;\n",
       "    }\n",
       "</style>\n",
       "<table border=\"1\" class=\"dataframe\">\n",
       "  <thead>\n",
       "    <tr style=\"text-align: right;\">\n",
       "      <th></th>\n",
       "      <th>periode</th>\n",
       "      <th>annee</th>\n",
       "      <th>mois</th>\n",
       "      <th>gare_depart</th>\n",
       "      <th>gare_arrivee</th>\n",
       "      <th>liaison_id</th>\n",
       "      <th>nbr_circulations_prevues</th>\n",
       "      <th>nbr_trains_annules</th>\n",
       "      <th>nbr_trains_retard_depart</th>\n",
       "      <th>nbr_trains_retard_arrivee</th>\n",
       "      <th>...</th>\n",
       "      <th>retard_causes_externes</th>\n",
       "      <th>retard_infrastructure_ferroviaire</th>\n",
       "      <th>retard_gestion_trafic</th>\n",
       "      <th>retard_materiel_roulant</th>\n",
       "      <th>retard_gestion_en_gare_et_reutilisation_de_materiel</th>\n",
       "      <th>retard_prise_en_compte_voyageurs</th>\n",
       "      <th>service</th>\n",
       "      <th>commentaire_facultatif_annulations</th>\n",
       "      <th>commentaire_facultatif_retards_depart</th>\n",
       "      <th>commentaire_facultatif_retards_arrivee</th>\n",
       "    </tr>\n",
       "  </thead>\n",
       "  <tbody>\n",
       "    <tr>\n",
       "      <th>6061</th>\n",
       "      <td>2019-04-01</td>\n",
       "      <td>2019</td>\n",
       "      <td>4.0</td>\n",
       "      <td>SAINT ETIENNE CHATEAUCREUX</td>\n",
       "      <td>PARIS LYON</td>\n",
       "      <td>52</td>\n",
       "      <td>108.0</td>\n",
       "      <td>1.0</td>\n",
       "      <td>14.0</td>\n",
       "      <td>6.0</td>\n",
       "      <td>...</td>\n",
       "      <td>16.666667</td>\n",
       "      <td>33.333333</td>\n",
       "      <td>0.0</td>\n",
       "      <td>33.333333</td>\n",
       "      <td>16.666667</td>\n",
       "      <td>0.0</td>\n",
       "      <td>NaN</td>\n",
       "      <td>NaN</td>\n",
       "      <td>NaN</td>\n",
       "      <td>NaN</td>\n",
       "    </tr>\n",
       "  </tbody>\n",
       "</table>\n",
       "<p>1 rows × 29 columns</p>\n",
       "</div>"
      ],
      "text/plain": [
       "        periode  annee  mois                 gare_depart gare_arrivee  \\\n",
       "6061 2019-04-01   2019   4.0  SAINT ETIENNE CHATEAUCREUX   PARIS LYON   \n",
       "\n",
       "      liaison_id  nbr_circulations_prevues  nbr_trains_annules  \\\n",
       "6061          52                     108.0                 1.0   \n",
       "\n",
       "      nbr_trains_retard_depart  nbr_trains_retard_arrivee  ...  \\\n",
       "6061                      14.0                        6.0  ...   \n",
       "\n",
       "      retard_causes_externes  retard_infrastructure_ferroviaire  \\\n",
       "6061               16.666667                          33.333333   \n",
       "\n",
       "      retard_gestion_trafic  retard_materiel_roulant  \\\n",
       "6061                    0.0                33.333333   \n",
       "\n",
       "      retard_gestion_en_gare_et_reutilisation_de_materiel  \\\n",
       "6061                                          16.666667     \n",
       "\n",
       "      retard_prise_en_compte_voyageurs  service  \\\n",
       "6061                               0.0      NaN   \n",
       "\n",
       "      commentaire_facultatif_annulations  \\\n",
       "6061                                 NaN   \n",
       "\n",
       "      commentaire_facultatif_retards_depart  \\\n",
       "6061                                    NaN   \n",
       "\n",
       "      commentaire_facultatif_retards_arrivee  \n",
       "6061                                     NaN  \n",
       "\n",
       "[1 rows x 29 columns]"
      ]
     },
     "execution_count": 18,
     "metadata": {},
     "output_type": "execute_result"
    }
   ],
   "source": [
    "col = 'retard_moyen_trains_retard_depart__min'\n",
    "df[df[col] == df[col].max()]"
   ]
  },
  {
   "cell_type": "markdown",
   "metadata": {},
   "source": [
    "# Exploring one specific line"
   ]
  },
  {
   "cell_type": "code",
   "execution_count": 19,
   "metadata": {
    "ExecuteTime": {
     "end_time": "2019-10-20T14:50:59.172149Z",
     "start_time": "2019-10-20T14:50:59.101467Z"
    }
   },
   "outputs": [],
   "source": [
    "def get_liaison(df, gare_depart, gare_arrivee, one_way=False):\n",
    "    df_sens_1 = df[(df['gare_arrivee']==gare_arrivee) & (df['gare_depart']==gare_depart)].sort_values(by=['annee', 'mois']).reset_index(drop=True)\n",
    "    df_sens_2 = df[(df['gare_arrivee']==gare_depart) & (df['gare_depart']==gare_arrivee)].sort_values(by=['annee', 'mois']).reset_index(drop=True)\n",
    "    if one_way:\n",
    "        return df_sens_1\n",
    "    return pd.concat([df_sens_1, df_sens_2]).reset_index(drop=True)"
   ]
  },
  {
   "cell_type": "code",
   "execution_count": 23,
   "metadata": {
    "ExecuteTime": {
     "end_time": "2019-10-20T14:51:00.717059Z",
     "start_time": "2019-10-20T14:51:00.470814Z"
    }
   },
   "outputs": [
    {
     "data": {
      "text/html": [
       "<div>\n",
       "<style scoped>\n",
       "    .dataframe tbody tr th:only-of-type {\n",
       "        vertical-align: middle;\n",
       "    }\n",
       "\n",
       "    .dataframe tbody tr th {\n",
       "        vertical-align: top;\n",
       "    }\n",
       "\n",
       "    .dataframe thead th {\n",
       "        text-align: right;\n",
       "    }\n",
       "</style>\n",
       "<table border=\"1\" class=\"dataframe\">\n",
       "  <thead>\n",
       "    <tr style=\"text-align: right;\">\n",
       "      <th></th>\n",
       "      <th>periode</th>\n",
       "      <th>annee</th>\n",
       "      <th>mois</th>\n",
       "      <th>gare_depart</th>\n",
       "      <th>gare_arrivee</th>\n",
       "      <th>liaison_id</th>\n",
       "      <th>nbr_circulations_prevues</th>\n",
       "      <th>nbr_trains_annules</th>\n",
       "      <th>nbr_trains_retard_depart</th>\n",
       "      <th>nbr_trains_retard_arrivee</th>\n",
       "      <th>nbr_trains_15min</th>\n",
       "      <th>nbr_trains_30min</th>\n",
       "      <th>nbr_trains_60min</th>\n",
       "      <th>duree_moyenne_trajet</th>\n",
       "      <th>retard_moyen_trains_retard_depart__min</th>\n",
       "      <th>retard_moyen_tous_les_trains_depart__min</th>\n",
       "      <th>retard_moyen_trains_retard_arrivee__min</th>\n",
       "      <th>retard_moyen_tous_les_trains_arrivee__min</th>\n",
       "      <th>retard_moyen_trains_15min</th>\n",
       "      <th>retard_causes_externes</th>\n",
       "      <th>retard_infrastructure_ferroviaire</th>\n",
       "      <th>retard_gestion_trafic</th>\n",
       "      <th>retard_materiel_roulant</th>\n",
       "      <th>retard_gestion_en_gare_et_reutilisation_de_materiel</th>\n",
       "      <th>retard_prise_en_compte_voyageurs</th>\n",
       "      <th>service</th>\n",
       "      <th>commentaire_facultatif_annulations</th>\n",
       "      <th>commentaire_facultatif_retards_depart</th>\n",
       "      <th>commentaire_facultatif_retards_arrivee</th>\n",
       "    </tr>\n",
       "  </thead>\n",
       "  <tbody>\n",
       "    <tr>\n",
       "      <th>0</th>\n",
       "      <td>2015-01-01</td>\n",
       "      <td>2015</td>\n",
       "      <td>1.0</td>\n",
       "      <td>PARIS MONTPARNASSE</td>\n",
       "      <td>BORDEAUX ST JEAN</td>\n",
       "      <td>9</td>\n",
       "      <td>615.0</td>\n",
       "      <td>1.0</td>\n",
       "      <td>19.0</td>\n",
       "      <td>58.0</td>\n",
       "      <td>58.0</td>\n",
       "      <td>23.0</td>\n",
       "      <td>10.0</td>\n",
       "      <td>208.685668</td>\n",
       "      <td>17.684211</td>\n",
       "      <td>0.693811</td>\n",
       "      <td>37.655172</td>\n",
       "      <td>4.705212</td>\n",
       "      <td>37.655172</td>\n",
       "      <td>27.083333</td>\n",
       "      <td>33.333333</td>\n",
       "      <td>14.583333</td>\n",
       "      <td>10.416667</td>\n",
       "      <td>10.416667</td>\n",
       "      <td>4.166667</td>\n",
       "      <td>National</td>\n",
       "      <td>NaN</td>\n",
       "      <td>NaN</td>\n",
       "      <td>NaN</td>\n",
       "    </tr>\n",
       "    <tr>\n",
       "      <th>1</th>\n",
       "      <td>2015-02-01</td>\n",
       "      <td>2015</td>\n",
       "      <td>2.0</td>\n",
       "      <td>PARIS MONTPARNASSE</td>\n",
       "      <td>BORDEAUX ST JEAN</td>\n",
       "      <td>9</td>\n",
       "      <td>577.0</td>\n",
       "      <td>1.0</td>\n",
       "      <td>22.0</td>\n",
       "      <td>44.0</td>\n",
       "      <td>44.0</td>\n",
       "      <td>11.0</td>\n",
       "      <td>3.0</td>\n",
       "      <td>210.177083</td>\n",
       "      <td>19.772727</td>\n",
       "      <td>0.949653</td>\n",
       "      <td>30.772727</td>\n",
       "      <td>4.307292</td>\n",
       "      <td>30.772727</td>\n",
       "      <td>28.947368</td>\n",
       "      <td>47.368421</td>\n",
       "      <td>10.526316</td>\n",
       "      <td>7.894737</td>\n",
       "      <td>5.263158</td>\n",
       "      <td>0.000000</td>\n",
       "      <td>National</td>\n",
       "      <td>NaN</td>\n",
       "      <td>NaN</td>\n",
       "      <td>NaN</td>\n",
       "    </tr>\n",
       "    <tr>\n",
       "      <th>2</th>\n",
       "      <td>2015-03-01</td>\n",
       "      <td>2015</td>\n",
       "      <td>3.0</td>\n",
       "      <td>PARIS MONTPARNASSE</td>\n",
       "      <td>BORDEAUX ST JEAN</td>\n",
       "      <td>9</td>\n",
       "      <td>645.0</td>\n",
       "      <td>0.0</td>\n",
       "      <td>8.0</td>\n",
       "      <td>27.0</td>\n",
       "      <td>27.0</td>\n",
       "      <td>9.0</td>\n",
       "      <td>2.0</td>\n",
       "      <td>207.714729</td>\n",
       "      <td>21.375000</td>\n",
       "      <td>0.337984</td>\n",
       "      <td>32.740741</td>\n",
       "      <td>2.040310</td>\n",
       "      <td>32.740741</td>\n",
       "      <td>36.000000</td>\n",
       "      <td>24.000000</td>\n",
       "      <td>12.000000</td>\n",
       "      <td>8.000000</td>\n",
       "      <td>12.000000</td>\n",
       "      <td>8.000000</td>\n",
       "      <td>National</td>\n",
       "      <td>NaN</td>\n",
       "      <td>NaN</td>\n",
       "      <td>NaN</td>\n",
       "    </tr>\n",
       "    <tr>\n",
       "      <th>3</th>\n",
       "      <td>2015-04-01</td>\n",
       "      <td>2015</td>\n",
       "      <td>4.0</td>\n",
       "      <td>PARIS MONTPARNASSE</td>\n",
       "      <td>BORDEAUX ST JEAN</td>\n",
       "      <td>9</td>\n",
       "      <td>632.0</td>\n",
       "      <td>0.0</td>\n",
       "      <td>15.0</td>\n",
       "      <td>42.0</td>\n",
       "      <td>42.0</td>\n",
       "      <td>16.0</td>\n",
       "      <td>6.0</td>\n",
       "      <td>207.685127</td>\n",
       "      <td>13.066667</td>\n",
       "      <td>0.458861</td>\n",
       "      <td>35.761905</td>\n",
       "      <td>3.128165</td>\n",
       "      <td>35.761905</td>\n",
       "      <td>38.461538</td>\n",
       "      <td>33.333333</td>\n",
       "      <td>12.820513</td>\n",
       "      <td>10.256410</td>\n",
       "      <td>5.128205</td>\n",
       "      <td>0.000000</td>\n",
       "      <td>National</td>\n",
       "      <td>NaN</td>\n",
       "      <td>NaN</td>\n",
       "      <td>NaN</td>\n",
       "    </tr>\n",
       "    <tr>\n",
       "      <th>4</th>\n",
       "      <td>2015-05-01</td>\n",
       "      <td>2015</td>\n",
       "      <td>5.0</td>\n",
       "      <td>PARIS MONTPARNASSE</td>\n",
       "      <td>BORDEAUX ST JEAN</td>\n",
       "      <td>9</td>\n",
       "      <td>637.0</td>\n",
       "      <td>1.0</td>\n",
       "      <td>10.0</td>\n",
       "      <td>34.0</td>\n",
       "      <td>34.0</td>\n",
       "      <td>17.0</td>\n",
       "      <td>4.0</td>\n",
       "      <td>211.077044</td>\n",
       "      <td>18.100000</td>\n",
       "      <td>0.413522</td>\n",
       "      <td>43.676471</td>\n",
       "      <td>2.451258</td>\n",
       "      <td>43.676471</td>\n",
       "      <td>35.483871</td>\n",
       "      <td>29.032258</td>\n",
       "      <td>0.000000</td>\n",
       "      <td>25.806452</td>\n",
       "      <td>0.000000</td>\n",
       "      <td>9.677419</td>\n",
       "      <td>National</td>\n",
       "      <td>NaN</td>\n",
       "      <td>NaN</td>\n",
       "      <td>Cette ligne a été touchée par : un bruit en to...</td>\n",
       "    </tr>\n",
       "  </tbody>\n",
       "</table>\n",
       "</div>"
      ],
      "text/plain": [
       "     periode  annee  mois         gare_depart      gare_arrivee  liaison_id  \\\n",
       "0 2015-01-01   2015   1.0  PARIS MONTPARNASSE  BORDEAUX ST JEAN           9   \n",
       "1 2015-02-01   2015   2.0  PARIS MONTPARNASSE  BORDEAUX ST JEAN           9   \n",
       "2 2015-03-01   2015   3.0  PARIS MONTPARNASSE  BORDEAUX ST JEAN           9   \n",
       "3 2015-04-01   2015   4.0  PARIS MONTPARNASSE  BORDEAUX ST JEAN           9   \n",
       "4 2015-05-01   2015   5.0  PARIS MONTPARNASSE  BORDEAUX ST JEAN           9   \n",
       "\n",
       "   nbr_circulations_prevues  nbr_trains_annules  nbr_trains_retard_depart  \\\n",
       "0                     615.0                 1.0                      19.0   \n",
       "1                     577.0                 1.0                      22.0   \n",
       "2                     645.0                 0.0                       8.0   \n",
       "3                     632.0                 0.0                      15.0   \n",
       "4                     637.0                 1.0                      10.0   \n",
       "\n",
       "   nbr_trains_retard_arrivee  nbr_trains_15min  nbr_trains_30min  \\\n",
       "0                       58.0              58.0              23.0   \n",
       "1                       44.0              44.0              11.0   \n",
       "2                       27.0              27.0               9.0   \n",
       "3                       42.0              42.0              16.0   \n",
       "4                       34.0              34.0              17.0   \n",
       "\n",
       "   nbr_trains_60min  duree_moyenne_trajet  \\\n",
       "0              10.0            208.685668   \n",
       "1               3.0            210.177083   \n",
       "2               2.0            207.714729   \n",
       "3               6.0            207.685127   \n",
       "4               4.0            211.077044   \n",
       "\n",
       "   retard_moyen_trains_retard_depart__min  \\\n",
       "0                               17.684211   \n",
       "1                               19.772727   \n",
       "2                               21.375000   \n",
       "3                               13.066667   \n",
       "4                               18.100000   \n",
       "\n",
       "   retard_moyen_tous_les_trains_depart__min  \\\n",
       "0                                  0.693811   \n",
       "1                                  0.949653   \n",
       "2                                  0.337984   \n",
       "3                                  0.458861   \n",
       "4                                  0.413522   \n",
       "\n",
       "   retard_moyen_trains_retard_arrivee__min  \\\n",
       "0                                37.655172   \n",
       "1                                30.772727   \n",
       "2                                32.740741   \n",
       "3                                35.761905   \n",
       "4                                43.676471   \n",
       "\n",
       "   retard_moyen_tous_les_trains_arrivee__min  retard_moyen_trains_15min  \\\n",
       "0                                   4.705212                  37.655172   \n",
       "1                                   4.307292                  30.772727   \n",
       "2                                   2.040310                  32.740741   \n",
       "3                                   3.128165                  35.761905   \n",
       "4                                   2.451258                  43.676471   \n",
       "\n",
       "   retard_causes_externes  retard_infrastructure_ferroviaire  \\\n",
       "0               27.083333                          33.333333   \n",
       "1               28.947368                          47.368421   \n",
       "2               36.000000                          24.000000   \n",
       "3               38.461538                          33.333333   \n",
       "4               35.483871                          29.032258   \n",
       "\n",
       "   retard_gestion_trafic  retard_materiel_roulant  \\\n",
       "0              14.583333                10.416667   \n",
       "1              10.526316                 7.894737   \n",
       "2              12.000000                 8.000000   \n",
       "3              12.820513                10.256410   \n",
       "4               0.000000                25.806452   \n",
       "\n",
       "   retard_gestion_en_gare_et_reutilisation_de_materiel  \\\n",
       "0                                          10.416667     \n",
       "1                                           5.263158     \n",
       "2                                          12.000000     \n",
       "3                                           5.128205     \n",
       "4                                           0.000000     \n",
       "\n",
       "   retard_prise_en_compte_voyageurs   service  \\\n",
       "0                          4.166667  National   \n",
       "1                          0.000000  National   \n",
       "2                          8.000000  National   \n",
       "3                          0.000000  National   \n",
       "4                          9.677419  National   \n",
       "\n",
       "   commentaire_facultatif_annulations  commentaire_facultatif_retards_depart  \\\n",
       "0                                 NaN                                    NaN   \n",
       "1                                 NaN                                    NaN   \n",
       "2                                 NaN                                    NaN   \n",
       "3                                 NaN                                    NaN   \n",
       "4                                 NaN                                    NaN   \n",
       "\n",
       "              commentaire_facultatif_retards_arrivee  \n",
       "0                                                NaN  \n",
       "1                                                NaN  \n",
       "2                                                NaN  \n",
       "3                                                NaN  \n",
       "4  Cette ligne a été touchée par : un bruit en to...  "
      ]
     },
     "execution_count": 23,
     "metadata": {},
     "output_type": "execute_result"
    }
   ],
   "source": [
    "gare_depart = 'PARIS MONTPARNASSE'\n",
    "gare_arrivee = 'BORDEAUX ST JEAN'\n",
    "df_liaison = df.pipe(get_liaison, gare_depart, gare_arrivee)\n",
    "df_liaison.head()"
   ]
  },
  {
   "cell_type": "code",
   "execution_count": 21,
   "metadata": {},
   "outputs": [
    {
     "data": {
      "text/plain": [
       "<matplotlib.collections.PathCollection at 0x11d030208>"
      ]
     },
     "execution_count": 21,
     "metadata": {},
     "output_type": "execute_result"
    },
    {
     "data": {
      "image/png": "[encoded data removed]",
      "text/plain": [
       "<Figure size 432x288 with 1 Axes>"
      ]
     },
     "metadata": {},
     "output_type": "display_data"
    }
   ],
   "source": [
    "plt.scatter(df_liaison['nbr_trains_retard_depart'],df_liaison['nbr_trains_retard_arrivee'])"
   ]
  },
  {
   "cell_type": "code",
   "execution_count": null,
   "metadata": {},
   "outputs": [],
   "source": [
    "root_cause = df_liaison.pipe(f.get_root_cause)\n",
    "np.sum(list(root_cause.values()))\n",
    "root_cause"
   ]
  },
  {
   "cell_type": "code",
   "execution_count": 55,
   "metadata": {
    "ExecuteTime": {
     "end_time": "2019-10-20T14:51:03.382395Z",
     "start_time": "2019-10-20T14:51:02.181984Z"
    }
   },
   "outputs": [
    {
     "data": {
      "image/png": "[encoded data removed]",
      "text/plain": [
       "<Figure size 432x288 with 1 Axes>"
      ]
     },
     "metadata": {},
     "output_type": "display_data"
    }
   ],
   "source": [
    "_ = plt.figure()\n",
    "_ = plt\n",
    "df_liaison.set_index('periode')['nbr_circulations_prevues'].plot()\n",
    "_ = plt.show()"
   ]
  },
  {
   "cell_type": "code",
   "execution_count": null,
   "metadata": {
    "ExecuteTime": {
     "end_time": "2019-10-20T14:51:06.864666Z",
     "start_time": "2019-10-20T14:51:04.973635Z"
    }
   },
   "outputs": [],
   "source": []
  },
  {
   "cell_type": "code",
   "execution_count": null,
   "metadata": {},
   "outputs": [],
   "source": []
  },
  {
   "cell_type": "code",
   "execution_count": null,
   "metadata": {},
   "outputs": [],
   "source": [
    "fig = go.Figure()\n",
    "\n",
    "# Points au départ de la gare 1\n",
    "tmp = df_liaison[df_liaison['gare_depart']==gare_depart]\n",
    "fig.add_trace(\n",
    "    go.Scatter(\n",
    "        x=tmp['nbr_circulations_prevues'],\n",
    "        y=tmp['nbr_trains_annules'],\n",
    "        mode='markers',\n",
    "        name='sens_1'\n",
    "    )\n",
    ")\n",
    "\n",
    "# Points au départ de la gare 2\n",
    "tmp = df_liaison[df_liaison['gare_depart']!=gare_depart]\n",
    "fig.add_trace(\n",
    "    go.Scatter(\n",
    "        x=tmp['nbr_circulations_prevues'],\n",
    "        y=tmp['nbr_trains_annules'],\n",
    "        mode='markers',\n",
    "        name='sens_2'\n",
    "    )\n",
    ")\n",
    "\n",
    "fig.show()"
   ]
  },
  {
   "cell_type": "markdown",
   "metadata": {},
   "source": [
    "# Map visualisation"
   ]
  },
  {
   "cell_type": "code",
   "execution_count": 45,
   "metadata": {
    "ExecuteTime": {
     "end_time": "2019-10-20T14:51:13.603502Z",
     "start_time": "2019-10-20T14:51:13.496168Z"
    }
   },
   "outputs": [
    {
     "data": {
      "text/plain": [
       "{'location_object': Location(Strasbourg, Bas-Rhin, Grand Est, France métropolitaine, France, (48.584614, 7.7507127, 0.0)),\n",
       " 'location_adress': 'Strasbourg, Bas-Rhin, Grand Est, France métropolitaine, France',\n",
       " 'latitude': 48.584614,\n",
       " 'longitude': 7.7507127}"
      ]
     },
     "execution_count": 45,
     "metadata": {},
     "output_type": "execute_result"
    }
   ],
   "source": [
    "gare_position = f.load_pickle('gare_gps.p')\n",
    "gare_position[list(gare_position.keys())[0]]"
   ]
  },
  {
   "cell_type": "code",
   "execution_count": 46,
   "metadata": {
    "ExecuteTime": {
     "end_time": "2019-10-20T14:51:16.165454Z",
     "start_time": "2019-10-20T14:51:16.069236Z"
    }
   },
   "outputs": [
    {
     "data": {
      "text/html": [
       "<div>\n",
       "<style scoped>\n",
       "    .dataframe tbody tr th:only-of-type {\n",
       "        vertical-align: middle;\n",
       "    }\n",
       "\n",
       "    .dataframe tbody tr th {\n",
       "        vertical-align: top;\n",
       "    }\n",
       "\n",
       "    .dataframe thead th {\n",
       "        text-align: right;\n",
       "    }\n",
       "</style>\n",
       "<table border=\"1\" class=\"dataframe\">\n",
       "  <thead>\n",
       "    <tr style=\"text-align: right;\">\n",
       "      <th></th>\n",
       "      <th>latitude</th>\n",
       "      <th>longitude</th>\n",
       "      <th>adresse</th>\n",
       "    </tr>\n",
       "    <tr>\n",
       "      <th>gare</th>\n",
       "      <th></th>\n",
       "      <th></th>\n",
       "      <th></th>\n",
       "    </tr>\n",
       "  </thead>\n",
       "  <tbody>\n",
       "    <tr>\n",
       "      <th>STRASBOURG</th>\n",
       "      <td>48.584614</td>\n",
       "      <td>7.750713</td>\n",
       "      <td>Strasbourg, Bas-Rhin, Grand Est, France métrop...</td>\n",
       "    </tr>\n",
       "    <tr>\n",
       "      <th>PARIS NORD</th>\n",
       "      <td>50.635390</td>\n",
       "      <td>3.069733</td>\n",
       "      <td>Paris Nord, 16, Rue du Molinel, Lille, Nord, H...</td>\n",
       "    </tr>\n",
       "    <tr>\n",
       "      <th>LYON PART DIEU</th>\n",
       "      <td>45.760542</td>\n",
       "      <td>4.860199</td>\n",
       "      <td>Lyon Part-Dieu, Gare de Lyon Part-Dieu, Part-D...</td>\n",
       "    </tr>\n",
       "    <tr>\n",
       "      <th>PARIS LYON</th>\n",
       "      <td>48.846970</td>\n",
       "      <td>2.373388</td>\n",
       "      <td>Paris Lyon, Rue Parrot, Quinze-Vingts, 12e, Pa...</td>\n",
       "    </tr>\n",
       "    <tr>\n",
       "      <th>LILLE</th>\n",
       "      <td>50.636565</td>\n",
       "      <td>3.063528</td>\n",
       "      <td>Lille, Nord, Hauts-de-France, France métropoli...</td>\n",
       "    </tr>\n",
       "  </tbody>\n",
       "</table>\n",
       "</div>"
      ],
      "text/plain": [
       "                 latitude  longitude  \\\n",
       "gare                                   \n",
       "STRASBOURG      48.584614   7.750713   \n",
       "PARIS NORD      50.635390   3.069733   \n",
       "LYON PART DIEU  45.760542   4.860199   \n",
       "PARIS LYON      48.846970   2.373388   \n",
       "LILLE           50.636565   3.063528   \n",
       "\n",
       "                                                          adresse  \n",
       "gare                                                               \n",
       "STRASBOURG      Strasbourg, Bas-Rhin, Grand Est, France métrop...  \n",
       "PARIS NORD      Paris Nord, 16, Rue du Molinel, Lille, Nord, H...  \n",
       "LYON PART DIEU  Lyon Part-Dieu, Gare de Lyon Part-Dieu, Part-D...  \n",
       "PARIS LYON      Paris Lyon, Rue Parrot, Quinze-Vingts, 12e, Pa...  \n",
       "LILLE           Lille, Nord, Hauts-de-France, France métropoli...  "
      ]
     },
     "execution_count": 46,
     "metadata": {},
     "output_type": "execute_result"
    }
   ],
   "source": [
    "df_gare = pd.DataFrame(\n",
    "    {\n",
    "        'gare':[key for key in gare_position.keys()],\n",
    "        'latitude':[value['latitude'] for value in gare_position.values()],\n",
    "        'longitude':[value['longitude'] for value in gare_position.values()],\n",
    "        'adresse':[value['location_adress'] for value in gare_position.values()]\n",
    "    }#,\n",
    "    #index=[key for key in gare_position.keys()]\n",
    ").set_index('gare')\n",
    "\n",
    "df_gare.head()"
   ]
  },
  {
   "cell_type": "code",
   "execution_count": 47,
   "metadata": {
    "ExecuteTime": {
     "end_time": "2019-10-20T14:51:23.982425Z",
     "start_time": "2019-10-20T14:51:23.807091Z"
    }
   },
   "outputs": [],
   "source": [
    "df_map = pd.merge(df, df_gare.reset_index(), left_on='gare_depart', right_on='gare')"
   ]
  },
  {
   "cell_type": "code",
   "execution_count": 49,
   "metadata": {},
   "outputs": [],
   "source": [
    "#df_map.head()"
   ]
  },
  {
   "cell_type": "code",
   "execution_count": 35,
   "metadata": {
    "ExecuteTime": {
     "end_time": "2019-10-20T14:51:27.521763Z",
     "start_time": "2019-10-20T14:51:27.420660Z"
    }
   },
   "outputs": [
    {
     "data": {
      "text/html": [
       "<div>\n",
       "<style scoped>\n",
       "    .dataframe tbody tr th:only-of-type {\n",
       "        vertical-align: middle;\n",
       "    }\n",
       "\n",
       "    .dataframe tbody tr th {\n",
       "        vertical-align: top;\n",
       "    }\n",
       "\n",
       "    .dataframe thead th {\n",
       "        text-align: right;\n",
       "    }\n",
       "</style>\n",
       "<table border=\"1\" class=\"dataframe\">\n",
       "  <thead>\n",
       "    <tr style=\"text-align: right;\">\n",
       "      <th></th>\n",
       "      <th>gare_depart</th>\n",
       "      <th>nbr_trains_annules</th>\n",
       "      <th>latitude</th>\n",
       "      <th>longitude</th>\n",
       "      <th>adresse</th>\n",
       "    </tr>\n",
       "  </thead>\n",
       "  <tbody>\n",
       "    <tr>\n",
       "      <th>0</th>\n",
       "      <td>AIX EN PROVENCE TGV</td>\n",
       "      <td>379.0</td>\n",
       "      <td>43.455145</td>\n",
       "      <td>5.317287</td>\n",
       "      <td>Aix-en-Provence TGV, D 9, La Foraine, Cabriès,...</td>\n",
       "    </tr>\n",
       "    <tr>\n",
       "      <th>1</th>\n",
       "      <td>ANGERS SAINT LAUD</td>\n",
       "      <td>572.0</td>\n",
       "      <td>47.464537</td>\n",
       "      <td>-0.556843</td>\n",
       "      <td>Angers-Saint-Laud, Esplanade de la Gare, La Do...</td>\n",
       "    </tr>\n",
       "    <tr>\n",
       "      <th>2</th>\n",
       "      <td>ANGOULEME</td>\n",
       "      <td>494.0</td>\n",
       "      <td>45.651275</td>\n",
       "      <td>0.157674</td>\n",
       "      <td>Angoulême, Charente, Nouvelle-Aquitaine, Franc...</td>\n",
       "    </tr>\n",
       "    <tr>\n",
       "      <th>3</th>\n",
       "      <td>ANNECY</td>\n",
       "      <td>328.0</td>\n",
       "      <td>45.889750</td>\n",
       "      <td>6.135465</td>\n",
       "      <td>Annecy, Haute-Savoie, Auvergne-Rhône-Alpes, Fr...</td>\n",
       "    </tr>\n",
       "    <tr>\n",
       "      <th>4</th>\n",
       "      <td>ARRAS</td>\n",
       "      <td>660.0</td>\n",
       "      <td>50.291048</td>\n",
       "      <td>2.777221</td>\n",
       "      <td>Arras, Pas-de-Calais, Hauts-de-France, France ...</td>\n",
       "    </tr>\n",
       "  </tbody>\n",
       "</table>\n",
       "</div>"
      ],
      "text/plain": [
       "           gare_depart  nbr_trains_annules   latitude  longitude  \\\n",
       "0  AIX EN PROVENCE TGV               379.0  43.455145   5.317287   \n",
       "1    ANGERS SAINT LAUD               572.0  47.464537  -0.556843   \n",
       "2            ANGOULEME               494.0  45.651275   0.157674   \n",
       "3               ANNECY               328.0  45.889750   6.135465   \n",
       "4                ARRAS               660.0  50.291048   2.777221   \n",
       "\n",
       "                                             adresse  \n",
       "0  Aix-en-Provence TGV, D 9, La Foraine, Cabriès,...  \n",
       "1  Angers-Saint-Laud, Esplanade de la Gare, La Do...  \n",
       "2  Angoulême, Charente, Nouvelle-Aquitaine, Franc...  \n",
       "3  Annecy, Haute-Savoie, Auvergne-Rhône-Alpes, Fr...  \n",
       "4  Arras, Pas-de-Calais, Hauts-de-France, France ...  "
      ]
     },
     "execution_count": 35,
     "metadata": {},
     "output_type": "execute_result"
    }
   ],
   "source": [
    "tmp = df.groupby('gare_depart').sum()[['nbr_trains_annules']].reset_index().merge(df_gare, left_on='gare_depart', right_on='gare')\n",
    "tmp.head()"
   ]
  },
  {
   "cell_type": "code",
   "execution_count": 36,
   "metadata": {
    "ExecuteTime": {
     "end_time": "2019-10-20T14:51:30.062011Z",
     "start_time": "2019-10-20T14:51:29.984712Z"
    }
   },
   "outputs": [],
   "source": [
    "# Define plotly geopgahic position\n",
    "geo_france = dict(\n",
    "        resolution=50,\n",
    "        scope='europe',\n",
    "        showframe=False,\n",
    "        showcoastlines=True,\n",
    "        showland=True,\n",
    "        landcolor=\"lightgray\",\n",
    "        countrycolor=\"white\" ,\n",
    "        coastlinecolor=\"white\",\n",
    "        projection_type='equirectangular',\n",
    "        lonaxis_range=[ -5.0, 10.0],\n",
    "        lataxis_range=[ 42.0, 52.0],\n",
    "        domain = dict(x=[0, 1], y=[ 0, 1])\n",
    "    )"
   ]
  },
  {
   "cell_type": "code",
   "execution_count": 49,
   "metadata": {
    "ExecuteTime": {
     "end_time": "2019-10-20T14:54:13.909287Z",
     "start_time": "2019-10-20T14:54:13.485142Z"
    }
   },
   "outputs": [
    {
     "data": {
      "application/vnd.plotly.v1+json": {
       "config": {
        "plotlyServerURL": "https://plot.ly"
       },
       "data": [
        {
         "lat": [
          43.4551451,
          47.4645375,
          45.6512748,
          45.88975045,
          50.291048,
          43.9217832,
          41.3828939,
          46.2626363,
          47.3072669,
          44.8264016,
          48.3905283,
          45.5714337,
          47.3231793,
          50.3703683,
          51.0347708,
          -32.8826344,
          46.2017559,
          45.1875602,
          42.6384261,
          46.1525774,
          46.5218269,
          48.0710377,
          46.7653149,
          48.0073498,
          50.6365654,
          45.7605423,
          46.28120705,
          40.4167047,
          48.8497513,
          43.3032722,
          49.1196964,
          43.6112422,
          47.7417759,
          48.6937223,
          47.2186371,
          43.7048602,
          43.8374249,
          48.8774344,
          48.8469697,
          48.8408073,
          50.6353896,
          48.8414302,
          42.6985304,
          46.5802596,
          47.9960325,
          49.2577886,
          48.1113387,
          45.4433433,
          48.6454528,
          47.3898152,
          48.584614,
          48.7784485,
          43.1257311,
          43.6112457,
          50.7235038,
          47.3900474,
          44.9960355,
          47.6586772,
          47.3723941
         ],
         "lon": [
          5.3172873,
          -0.556843343181815,
          0.1576745,
          6.135465100226,
          2.7772211,
          4.786072,
          2.1774322,
          4.9458155,
          5.9533257,
          -0.555906,
          -4.4860088,
          5.9198702,
          5.0273864,
          3.0761377,
          2.3772525,
          -61.0219835,
          6.1466014,
          5.7357819,
          12.674297,
          -1.1453062,
          6.6327025,
          -0.7723499,
          4.4995015,
          0.1967379,
          3.0635282,
          4.8601993,
          4.77282913057634,
          -3.7035825,
          2.67159197239168,
          5.3811746,
          6.1763552,
          3.8767337,
          7.342934,
          6.1834097,
          -1.5541362,
          7.2617611,
          4.3600687,
          2.3589456,
          2.3733881,
          2.3218471,
          3.0697335,
          2.2961649330194,
          2.8953121,
          0.340196,
          -4.1024782,
          4.031926,
          -1.6800198,
          4.3994367,
          -2.015418,
          0.7189761,
          7.7507127,
          9.1800132,
          5.9304919,
          1.4539572,
          3.1605714,
          0.6889268,
          4.99675216451078,
          -2.7599079,
          8.5423328
         ],
         "marker": {
          "line": {
           "color": "rgb(40,40,40)",
           "width": 0.5
          },
          "size": [
           37.9,
           57.2,
           49.400000000000006,
           32.800000000000004,
           66,
           58.6,
           4.5,
           27.1,
           24.8,
           160.4,
           37.800000000000004,
           44.300000000000004,
           43.300000000000004,
           29.8,
           31,
           17.3,
           21.200000000000003,
           29,
           16.5,
           26,
           9.9,
           24.3,
           13.200000000000001,
           50.7,
           148,
           378,
           31.5,
           5.800000000000001,
           64.9,
           205.5,
           32.7,
           157,
           34.5,
           33.1,
           83.30000000000001,
           41.5,
           71.60000000000001,
           157.20000000000002,
           804.2,
           745.5,
           218.20000000000002,
           2,
           38.400000000000006,
           73.3,
           34.300000000000004,
           17.5,
           118.4,
           8.6,
           10.200000000000001,
           53.400000000000006,
           61.300000000000004,
           14.9,
           54,
           22.5,
           3.6,
           16.7,
           48,
           39.1,
           7.4
          ],
          "sizemode": "area"
         },
         "text": [
          "379.0  -  AIX EN PROVENCE TGV",
          "572.0  -  ANGERS SAINT LAUD",
          "494.0  -  ANGOULEME",
          "328.0  -  ANNECY",
          "660.0  -  ARRAS",
          "586.0  -  AVIGNON TGV",
          "45.0  -  BARCELONA",
          "271.0  -  BELLEGARDE (AIN)",
          "248.0  -  BESANCON FRANCHE COMTE TGV",
          "1604.0  -  BORDEAUX ST JEAN",
          "378.0  -  BREST",
          "443.0  -  CHAMBERY CHALLES LES EAUX",
          "433.0  -  DIJON VILLE",
          "298.0  -  DOUAI",
          "310.0  -  DUNKERQUE",
          "173.0  -  FRANCFORT",
          "212.0  -  GENEVE",
          "290.0  -  GRENOBLE",
          "165.0  -  ITALIE",
          "260.0  -  LA ROCHELLE VILLE",
          "99.0  -  LAUSANNE",
          "243.0  -  LAVAL",
          "132.0  -  LE CREUSOT MONTCEAU MONTCHANIN",
          "507.0  -  LE MANS",
          "1480.0  -  LILLE",
          "3780.0  -  LYON PART DIEU",
          "315.0  -  MACON LOCHE",
          "58.0  -  MADRID",
          "649.0  -  MARNE LA VALLEE",
          "2055.0  -  MARSEILLE ST CHARLES",
          "327.0  -  METZ",
          "1570.0  -  MONTPELLIER",
          "345.0  -  MULHOUSE VILLE",
          "331.0  -  NANCY",
          "833.0  -  NANTES",
          "415.0  -  NICE VILLE",
          "716.0  -  NIMES",
          "1572.0  -  PARIS EST",
          "8042.0  -  PARIS LYON",
          "7455.0  -  PARIS MONTPARNASSE",
          "2182.0  -  PARIS NORD",
          "20.0  -  PARIS VAUGIRARD",
          "384.0  -  PERPIGNAN",
          "733.0  -  POITIERS",
          "343.0  -  QUIMPER",
          "175.0  -  REIMS",
          "1184.0  -  RENNES",
          "86.0  -  SAINT ETIENNE CHATEAUCREUX",
          "102.0  -  ST MALO",
          "534.0  -  ST PIERRE DES CORPS",
          "613.0  -  STRASBOURG",
          "149.0  -  STUTTGART",
          "540.0  -  TOULON",
          "225.0  -  TOULOUSE MATABIAU",
          "36.0  -  TOURCOING",
          "167.0  -  TOURS",
          "480.0  -  VALENCE ALIXAN TGV",
          "391.0  -  VANNES",
          "74.0  -  ZURICH"
         ],
         "type": "scattergeo"
        }
       ],
       "layout": {
        "geo": {
         "coastlinecolor": "white",
         "countrycolor": "white",
         "domain": {
          "x": [
           0,
           1
          ],
          "y": [
           0,
           1
          ]
         },
         "landcolor": "lightgray",
         "lataxis": {
          "range": [
           42,
           52
          ]
         },
         "lonaxis": {
          "range": [
           -5,
           10
          ]
         },
         "projection": {
          "type": "equirectangular"
         },
         "resolution": 50,
         "scope": "europe",
         "showcoastlines": true,
         "showframe": false,
         "showland": true
        },
        "template": {
         "data": {
          "bar": [
           {
            "error_x": {
             "color": "#2a3f5f"
            },
            "error_y": {
             "color": "#2a3f5f"
            },
            "marker": {
             "line": {
              "color": "#E5ECF6",
              "width": 0.5
             }
            },
            "type": "bar"
           }
          ],
          "barpolar": [
           {
            "marker": {
             "line": {
              "color": "#E5ECF6",
              "width": 0.5
             }
            },
            "type": "barpolar"
           }
          ],
          "carpet": [
           {
            "aaxis": {
             "endlinecolor": "#2a3f5f",
             "gridcolor": "white",
             "linecolor": "white",
             "minorgridcolor": "white",
             "startlinecolor": "#2a3f5f"
            },
            "baxis": {
             "endlinecolor": "#2a3f5f",
             "gridcolor": "white",
             "linecolor": "white",
             "minorgridcolor": "white",
             "startlinecolor": "#2a3f5f"
            },
            "type": "carpet"
           }
          ],
          "choropleth": [
           {
            "colorbar": {
             "outlinewidth": 0,
             "ticks": ""
            },
            "type": "choropleth"
           }
          ],
          "contour": [
           {
            "colorbar": {
             "outlinewidth": 0,
             "ticks": ""
            },
            "colorscale": [
             [
              0,
              "#0d0887"
             ],
             [
              0.1111111111111111,
              "#46039f"
             ],
             [
              0.2222222222222222,
              "#7201a8"
             ],
             [
              0.3333333333333333,
              "#9c179e"
             ],
             [
              0.4444444444444444,
              "#bd3786"
             ],
             [
              0.5555555555555556,
              "#d8576b"
             ],
             [
              0.6666666666666666,
              "#ed7953"
             ],
             [
              0.7777777777777778,
              "#fb9f3a"
             ],
             [
              0.8888888888888888,
              "#fdca26"
             ],
             [
              1,
              "#f0f921"
             ]
            ],
            "type": "contour"
           }
          ],
          "contourcarpet": [
           {
            "colorbar": {
             "outlinewidth": 0,
             "ticks": ""
            },
            "type": "contourcarpet"
           }
          ],
          "heatmap": [
           {
            "colorbar": {
             "outlinewidth": 0,
             "ticks": ""
            },
            "colorscale": [
             [
              0,
              "#0d0887"
             ],
             [
              0.1111111111111111,
              "#46039f"
             ],
             [
              0.2222222222222222,
              "#7201a8"
             ],
             [
              0.3333333333333333,
              "#9c179e"
             ],
             [
              0.4444444444444444,
              "#bd3786"
             ],
             [
              0.5555555555555556,
              "#d8576b"
             ],
             [
              0.6666666666666666,
              "#ed7953"
             ],
             [
              0.7777777777777778,
              "#fb9f3a"
             ],
             [
              0.8888888888888888,
              "#fdca26"
             ],
             [
              1,
              "#f0f921"
             ]
            ],
            "type": "heatmap"
           }
          ],
          "heatmapgl": [
           {
            "colorbar": {
             "outlinewidth": 0,
             "ticks": ""
            },
            "colorscale": [
             [
              0,
              "#0d0887"
             ],
             [
              0.1111111111111111,
              "#46039f"
             ],
             [
              0.2222222222222222,
              "#7201a8"
             ],
             [
              0.3333333333333333,
              "#9c179e"
             ],
             [
              0.4444444444444444,
              "#bd3786"
             ],
             [
              0.5555555555555556,
              "#d8576b"
             ],
             [
              0.6666666666666666,
              "#ed7953"
             ],
             [
              0.7777777777777778,
              "#fb9f3a"
             ],
             [
              0.8888888888888888,
              "#fdca26"
             ],
             [
              1,
              "#f0f921"
             ]
            ],
            "type": "heatmapgl"
           }
          ],
          "histogram": [
           {
            "marker": {
             "colorbar": {
              "outlinewidth": 0,
              "ticks": ""
             }
            },
            "type": "histogram"
           }
          ],
          "histogram2d": [
           {
            "colorbar": {
             "outlinewidth": 0,
             "ticks": ""
            },
            "colorscale": [
             [
              0,
              "#0d0887"
             ],
             [
              0.1111111111111111,
              "#46039f"
             ],
             [
              0.2222222222222222,
              "#7201a8"
             ],
             [
              0.3333333333333333,
              "#9c179e"
             ],
             [
              0.4444444444444444,
              "#bd3786"
             ],
             [
              0.5555555555555556,
              "#d8576b"
             ],
             [
              0.6666666666666666,
              "#ed7953"
             ],
             [
              0.7777777777777778,
              "#fb9f3a"
             ],
             [
              0.8888888888888888,
              "#fdca26"
             ],
             [
              1,
              "#f0f921"
             ]
            ],
            "type": "histogram2d"
           }
          ],
          "histogram2dcontour": [
           {
            "colorbar": {
             "outlinewidth": 0,
             "ticks": ""
            },
            "colorscale": [
             [
              0,
              "#0d0887"
             ],
             [
              0.1111111111111111,
              "#46039f"
             ],
             [
              0.2222222222222222,
              "#7201a8"
             ],
             [
              0.3333333333333333,
              "#9c179e"
             ],
             [
              0.4444444444444444,
              "#bd3786"
             ],
             [
              0.5555555555555556,
              "#d8576b"
             ],
             [
              0.6666666666666666,
              "#ed7953"
             ],
             [
              0.7777777777777778,
              "#fb9f3a"
             ],
             [
              0.8888888888888888,
              "#fdca26"
             ],
             [
              1,
              "#f0f921"
             ]
            ],
            "type": "histogram2dcontour"
           }
          ],
          "mesh3d": [
           {
            "colorbar": {
             "outlinewidth": 0,
             "ticks": ""
            },
            "type": "mesh3d"
           }
          ],
          "parcoords": [
           {
            "line": {
             "colorbar": {
              "outlinewidth": 0,
              "ticks": ""
             }
            },
            "type": "parcoords"
           }
          ],
          "scatter": [
           {
            "marker": {
             "colorbar": {
              "outlinewidth": 0,
              "ticks": ""
             }
            },
            "type": "scatter"
           }
          ],
          "scatter3d": [
           {
            "line": {
             "colorbar": {
              "outlinewidth": 0,
              "ticks": ""
             }
            },
            "marker": {
             "colorbar": {
              "outlinewidth": 0,
              "ticks": ""
             }
            },
            "type": "scatter3d"
           }
          ],
          "scattercarpet": [
           {
            "marker": {
             "colorbar": {
              "outlinewidth": 0,
              "ticks": ""
             }
            },
            "type": "scattercarpet"
           }
          ],
          "scattergeo": [
           {
            "marker": {
             "colorbar": {
              "outlinewidth": 0,
              "ticks": ""
             }
            },
            "type": "scattergeo"
           }
          ],
          "scattergl": [
           {
            "marker": {
             "colorbar": {
              "outlinewidth": 0,
              "ticks": ""
             }
            },
            "type": "scattergl"
           }
          ],
          "scattermapbox": [
           {
            "marker": {
             "colorbar": {
              "outlinewidth": 0,
              "ticks": ""
             }
            },
            "type": "scattermapbox"
           }
          ],
          "scatterpolar": [
           {
            "marker": {
             "colorbar": {
              "outlinewidth": 0,
              "ticks": ""
             }
            },
            "type": "scatterpolar"
           }
          ],
          "scatterpolargl": [
           {
            "marker": {
             "colorbar": {
              "outlinewidth": 0,
              "ticks": ""
             }
            },
            "type": "scatterpolargl"
           }
          ],
          "scatterternary": [
           {
            "marker": {
             "colorbar": {
              "outlinewidth": 0,
              "ticks": ""
             }
            },
            "type": "scatterternary"
           }
          ],
          "surface": [
           {
            "colorbar": {
             "outlinewidth": 0,
             "ticks": ""
            },
            "colorscale": [
             [
              0,
              "#0d0887"
             ],
             [
              0.1111111111111111,
              "#46039f"
             ],
             [
              0.2222222222222222,
              "#7201a8"
             ],
             [
              0.3333333333333333,
              "#9c179e"
             ],
             [
              0.4444444444444444,
              "#bd3786"
             ],
             [
              0.5555555555555556,
              "#d8576b"
             ],
             [
              0.6666666666666666,
              "#ed7953"
             ],
             [
              0.7777777777777778,
              "#fb9f3a"
             ],
             [
              0.8888888888888888,
              "#fdca26"
             ],
             [
              1,
              "#f0f921"
             ]
            ],
            "type": "surface"
           }
          ],
          "table": [
           {
            "cells": {
             "fill": {
              "color": "#EBF0F8"
             },
             "line": {
              "color": "white"
             }
            },
            "header": {
             "fill": {
              "color": "#C8D4E3"
             },
             "line": {
              "color": "white"
             }
            },
            "type": "table"
           }
          ]
         },
         "layout": {
          "annotationdefaults": {
           "arrowcolor": "#2a3f5f",
           "arrowhead": 0,
           "arrowwidth": 1
          },
          "colorscale": {
           "diverging": [
            [
             0,
             "#8e0152"
            ],
            [
             0.1,
             "#c51b7d"
            ],
            [
             0.2,
             "#de77ae"
            ],
            [
             0.3,
             "#f1b6da"
            ],
            [
             0.4,
             "#fde0ef"
            ],
            [
             0.5,
             "#f7f7f7"
            ],
            [
             0.6,
             "#e6f5d0"
            ],
            [
             0.7,
             "#b8e186"
            ],
            [
             0.8,
             "#7fbc41"
            ],
            [
             0.9,
             "#4d9221"
            ],
            [
             1,
             "#276419"
            ]
           ],
           "sequential": [
            [
             0,
             "#0d0887"
            ],
            [
             0.1111111111111111,
             "#46039f"
            ],
            [
             0.2222222222222222,
             "#7201a8"
            ],
            [
             0.3333333333333333,
             "#9c179e"
            ],
            [
             0.4444444444444444,
             "#bd3786"
            ],
            [
             0.5555555555555556,
             "#d8576b"
            ],
            [
             0.6666666666666666,
             "#ed7953"
            ],
            [
             0.7777777777777778,
             "#fb9f3a"
            ],
            [
             0.8888888888888888,
             "#fdca26"
            ],
            [
             1,
             "#f0f921"
            ]
           ],
           "sequentialminus": [
            [
             0,
             "#0d0887"
            ],
            [
             0.1111111111111111,
             "#46039f"
            ],
            [
             0.2222222222222222,
             "#7201a8"
            ],
            [
             0.3333333333333333,
             "#9c179e"
            ],
            [
             0.4444444444444444,
             "#bd3786"
            ],
            [
             0.5555555555555556,
             "#d8576b"
            ],
            [
             0.6666666666666666,
             "#ed7953"
            ],
            [
             0.7777777777777778,
             "#fb9f3a"
            ],
            [
             0.8888888888888888,
             "#fdca26"
            ],
            [
             1,
             "#f0f921"
            ]
           ]
          },
          "colorway": [
           "#636efa",
           "#EF553B",
           "#00cc96",
           "#ab63fa",
           "#FFA15A",
           "#19d3f3",
           "#FF6692",
           "#B6E880",
           "#FF97FF",
           "#FECB52"
          ],
          "font": {
           "color": "#2a3f5f"
          },
          "geo": {
           "bgcolor": "white",
           "lakecolor": "white",
           "landcolor": "#E5ECF6",
           "showlakes": true,
           "showland": true,
           "subunitcolor": "white"
          },
          "hoverlabel": {
           "align": "left"
          },
          "hovermode": "closest",
          "mapbox": {
           "style": "light"
          },
          "paper_bgcolor": "white",
          "plot_bgcolor": "#E5ECF6",
          "polar": {
           "angularaxis": {
            "gridcolor": "white",
            "linecolor": "white",
            "ticks": ""
           },
           "bgcolor": "#E5ECF6",
           "radialaxis": {
            "gridcolor": "white",
            "linecolor": "white",
            "ticks": ""
           }
          },
          "scene": {
           "xaxis": {
            "backgroundcolor": "#E5ECF6",
            "gridcolor": "white",
            "gridwidth": 2,
            "linecolor": "white",
            "showbackground": true,
            "ticks": "",
            "zerolinecolor": "white"
           },
           "yaxis": {
            "backgroundcolor": "#E5ECF6",
            "gridcolor": "white",
            "gridwidth": 2,
            "linecolor": "white",
            "showbackground": true,
            "ticks": "",
            "zerolinecolor": "white"
           },
           "zaxis": {
            "backgroundcolor": "#E5ECF6",
            "gridcolor": "white",
            "gridwidth": 2,
            "linecolor": "white",
            "showbackground": true,
            "ticks": "",
            "zerolinecolor": "white"
           }
          },
          "shapedefaults": {
           "line": {
            "color": "#2a3f5f"
           }
          },
          "ternary": {
           "aaxis": {
            "gridcolor": "white",
            "linecolor": "white",
            "ticks": ""
           },
           "baxis": {
            "gridcolor": "white",
            "linecolor": "white",
            "ticks": ""
           },
           "bgcolor": "#E5ECF6",
           "caxis": {
            "gridcolor": "white",
            "linecolor": "white",
            "ticks": ""
           }
          },
          "title": {
           "x": 0.05
          },
          "xaxis": {
           "automargin": true,
           "gridcolor": "white",
           "linecolor": "white",
           "ticks": "",
           "zerolinecolor": "white",
           "zerolinewidth": 2
          },
          "yaxis": {
           "automargin": true,
           "gridcolor": "white",
           "linecolor": "white",
           "ticks": "",
           "zerolinecolor": "white",
           "zerolinewidth": 2
          }
         }
        },
        "title": {
         "text": "Grandes gares TGV Françaises"
        }
       }
      },
      "text/html": [
       "<div>\n",
       "        \n",
       "        \n",
       "            <div id=\"90d51288-319d-448a-a7d0-1f7f7e2516b7\" class=\"plotly-graph-div\" style=\"height:525px; width:100%;\"></div>\n",
       "            <script type=\"text/javascript\">\n",
       "                require([\"plotly\"], function(Plotly) {\n",
       "                    window.PLOTLYENV=window.PLOTLYENV || {};\n",
       "                    \n",
       "                if (document.getElementById(\"90d51288-319d-448a-a7d0-1f7f7e2516b7\")) {\n",
       "                    Plotly.newPlot(\n",
       "                        '90d51288-319d-448a-a7d0-1f7f7e2516b7',\n",
       "                        [{\"lat\": [43.4551451, 47.4645375, 45.6512748, 45.88975045, 50.291048, 43.9217832, 41.3828939, 46.2626363, 47.3072669, 44.8264016, 48.3905283, 45.5714337, 47.3231793, 50.3703683, 51.0347708, -32.8826344, 46.2017559, 45.1875602, 42.6384261, 46.1525774, 46.5218269, 48.0710377, 46.7653149, 48.0073498, 50.6365654, 45.7605423, 46.28120705, 40.4167047, 48.8497513, 43.3032722, 49.1196964, 43.6112422, 47.7417759, 48.6937223, 47.2186371, 43.7048602, 43.8374249, 48.8774344, 48.8469697, 48.8408073, 50.6353896, 48.8414302, 42.6985304, 46.5802596, 47.9960325, 49.2577886, 48.1113387, 45.4433433, 48.6454528, 47.3898152, 48.584614, 48.7784485, 43.1257311, 43.6112457, 50.7235038, 47.3900474, 44.9960355, 47.6586772, 47.3723941], \"lon\": [5.3172873, -0.556843343181815, 0.1576745, 6.135465100226, 2.7772211, 4.786072, 2.1774322, 4.9458155, 5.9533257, -0.555906, -4.4860088, 5.9198702, 5.0273864, 3.0761377, 2.3772525, -61.0219835, 6.1466014, 5.7357819, 12.674297, -1.1453062, 6.6327025, -0.7723499, 4.4995015, 0.1967379, 3.0635282, 4.8601993, 4.77282913057634, -3.7035825, 2.67159197239168, 5.3811746, 6.1763552, 3.8767337, 7.342934, 6.1834097, -1.5541362, 7.2617611, 4.3600687, 2.3589456, 2.3733881, 2.3218471, 3.0697335, 2.2961649330194, 2.8953121, 0.340196, -4.1024782, 4.031926, -1.6800198, 4.3994367, -2.015418, 0.7189761, 7.7507127, 9.1800132, 5.9304919, 1.4539572, 3.1605714, 0.6889268, 4.99675216451078, -2.7599079, 8.5423328], \"marker\": {\"line\": {\"color\": \"rgb(40,40,40)\", \"width\": 0.5}, \"size\": [37.9, 57.2, 49.400000000000006, 32.800000000000004, 66.0, 58.6, 4.5, 27.1, 24.8, 160.4, 37.800000000000004, 44.300000000000004, 43.300000000000004, 29.8, 31.0, 17.3, 21.200000000000003, 29.0, 16.5, 26.0, 9.9, 24.3, 13.200000000000001, 50.7, 148.0, 378.0, 31.5, 5.800000000000001, 64.9, 205.5, 32.7, 157.0, 34.5, 33.1, 83.30000000000001, 41.5, 71.60000000000001, 157.20000000000002, 804.2, 745.5, 218.20000000000002, 2.0, 38.400000000000006, 73.3, 34.300000000000004, 17.5, 118.4, 8.6, 10.200000000000001, 53.400000000000006, 61.300000000000004, 14.9, 54.0, 22.5, 3.6, 16.7, 48.0, 39.1, 7.4], \"sizemode\": \"area\"}, \"text\": [\"379.0  -  AIX EN PROVENCE TGV\", \"572.0  -  ANGERS SAINT LAUD\", \"494.0  -  ANGOULEME\", \"328.0  -  ANNECY\", \"660.0  -  ARRAS\", \"586.0  -  AVIGNON TGV\", \"45.0  -  BARCELONA\", \"271.0  -  BELLEGARDE (AIN)\", \"248.0  -  BESANCON FRANCHE COMTE TGV\", \"1604.0  -  BORDEAUX ST JEAN\", \"378.0  -  BREST\", \"443.0  -  CHAMBERY CHALLES LES EAUX\", \"433.0  -  DIJON VILLE\", \"298.0  -  DOUAI\", \"310.0  -  DUNKERQUE\", \"173.0  -  FRANCFORT\", \"212.0  -  GENEVE\", \"290.0  -  GRENOBLE\", \"165.0  -  ITALIE\", \"260.0  -  LA ROCHELLE VILLE\", \"99.0  -  LAUSANNE\", \"243.0  -  LAVAL\", \"132.0  -  LE CREUSOT MONTCEAU MONTCHANIN\", \"507.0  -  LE MANS\", \"1480.0  -  LILLE\", \"3780.0  -  LYON PART DIEU\", \"315.0  -  MACON LOCHE\", \"58.0  -  MADRID\", \"649.0  -  MARNE LA VALLEE\", \"2055.0  -  MARSEILLE ST CHARLES\", \"327.0  -  METZ\", \"1570.0  -  MONTPELLIER\", \"345.0  -  MULHOUSE VILLE\", \"331.0  -  NANCY\", \"833.0  -  NANTES\", \"415.0  -  NICE VILLE\", \"716.0  -  NIMES\", \"1572.0  -  PARIS EST\", \"8042.0  -  PARIS LYON\", \"7455.0  -  PARIS MONTPARNASSE\", \"2182.0  -  PARIS NORD\", \"20.0  -  PARIS VAUGIRARD\", \"384.0  -  PERPIGNAN\", \"733.0  -  POITIERS\", \"343.0  -  QUIMPER\", \"175.0  -  REIMS\", \"1184.0  -  RENNES\", \"86.0  -  SAINT ETIENNE CHATEAUCREUX\", \"102.0  -  ST MALO\", \"534.0  -  ST PIERRE DES CORPS\", \"613.0  -  STRASBOURG\", \"149.0  -  STUTTGART\", \"540.0  -  TOULON\", \"225.0  -  TOULOUSE MATABIAU\", \"36.0  -  TOURCOING\", \"167.0  -  TOURS\", \"480.0  -  VALENCE ALIXAN TGV\", \"391.0  -  VANNES\", \"74.0  -  ZURICH\"], \"type\": \"scattergeo\"}],\n",
       "                        {\"geo\": {\"coastlinecolor\": \"white\", \"countrycolor\": \"white\", \"domain\": {\"x\": [0, 1], \"y\": [0, 1]}, \"landcolor\": \"lightgray\", \"lataxis\": {\"range\": [42.0, 52.0]}, \"lonaxis\": {\"range\": [-5.0, 10.0]}, \"projection\": {\"type\": \"equirectangular\"}, \"resolution\": 50, \"scope\": \"europe\", \"showcoastlines\": true, \"showframe\": false, \"showland\": true}, \"template\": {\"data\": {\"bar\": [{\"error_x\": {\"color\": \"#2a3f5f\"}, \"error_y\": {\"color\": \"#2a3f5f\"}, \"marker\": {\"line\": {\"color\": \"#E5ECF6\", \"width\": 0.5}}, \"type\": \"bar\"}], \"barpolar\": [{\"marker\": {\"line\": {\"color\": \"#E5ECF6\", \"width\": 0.5}}, \"type\": \"barpolar\"}], \"carpet\": [{\"aaxis\": {\"endlinecolor\": \"#2a3f5f\", \"gridcolor\": \"white\", \"linecolor\": \"white\", \"minorgridcolor\": \"white\", \"startlinecolor\": \"#2a3f5f\"}, \"baxis\": {\"endlinecolor\": \"#2a3f5f\", \"gridcolor\": \"white\", \"linecolor\": \"white\", \"minorgridcolor\": \"white\", \"startlinecolor\": \"#2a3f5f\"}, \"type\": \"carpet\"}], \"choropleth\": [{\"colorbar\": {\"outlinewidth\": 0, \"ticks\": \"\"}, \"type\": \"choropleth\"}], \"contour\": [{\"colorbar\": {\"outlinewidth\": 0, \"ticks\": \"\"}, \"colorscale\": [[0.0, \"#0d0887\"], [0.1111111111111111, \"#46039f\"], [0.2222222222222222, \"#7201a8\"], [0.3333333333333333, \"#9c179e\"], [0.4444444444444444, \"#bd3786\"], [0.5555555555555556, \"#d8576b\"], [0.6666666666666666, \"#ed7953\"], [0.7777777777777778, \"#fb9f3a\"], [0.8888888888888888, \"#fdca26\"], [1.0, \"#f0f921\"]], \"type\": \"contour\"}], \"contourcarpet\": [{\"colorbar\": {\"outlinewidth\": 0, \"ticks\": \"\"}, \"type\": \"contourcarpet\"}], \"heatmap\": [{\"colorbar\": {\"outlinewidth\": 0, \"ticks\": \"\"}, \"colorscale\": [[0.0, \"#0d0887\"], [0.1111111111111111, \"#46039f\"], [0.2222222222222222, \"#7201a8\"], [0.3333333333333333, \"#9c179e\"], [0.4444444444444444, \"#bd3786\"], [0.5555555555555556, \"#d8576b\"], [0.6666666666666666, \"#ed7953\"], [0.7777777777777778, \"#fb9f3a\"], [0.8888888888888888, \"#fdca26\"], [1.0, \"#f0f921\"]], \"type\": \"heatmap\"}], \"heatmapgl\": [{\"colorbar\": {\"outlinewidth\": 0, \"ticks\": \"\"}, \"colorscale\": [[0.0, \"#0d0887\"], [0.1111111111111111, \"#46039f\"], [0.2222222222222222, \"#7201a8\"], [0.3333333333333333, \"#9c179e\"], [0.4444444444444444, \"#bd3786\"], [0.5555555555555556, \"#d8576b\"], [0.6666666666666666, \"#ed7953\"], [0.7777777777777778, \"#fb9f3a\"], [0.8888888888888888, \"#fdca26\"], [1.0, \"#f0f921\"]], \"type\": \"heatmapgl\"}], \"histogram\": [{\"marker\": {\"colorbar\": {\"outlinewidth\": 0, \"ticks\": \"\"}}, \"type\": \"histogram\"}], \"histogram2d\": [{\"colorbar\": {\"outlinewidth\": 0, \"ticks\": \"\"}, \"colorscale\": [[0.0, \"#0d0887\"], [0.1111111111111111, \"#46039f\"], [0.2222222222222222, \"#7201a8\"], [0.3333333333333333, \"#9c179e\"], [0.4444444444444444, \"#bd3786\"], [0.5555555555555556, \"#d8576b\"], [0.6666666666666666, \"#ed7953\"], [0.7777777777777778, \"#fb9f3a\"], [0.8888888888888888, \"#fdca26\"], [1.0, \"#f0f921\"]], \"type\": \"histogram2d\"}], \"histogram2dcontour\": [{\"colorbar\": {\"outlinewidth\": 0, \"ticks\": \"\"}, \"colorscale\": [[0.0, \"#0d0887\"], [0.1111111111111111, \"#46039f\"], [0.2222222222222222, \"#7201a8\"], [0.3333333333333333, \"#9c179e\"], [0.4444444444444444, \"#bd3786\"], [0.5555555555555556, \"#d8576b\"], [0.6666666666666666, \"#ed7953\"], [0.7777777777777778, \"#fb9f3a\"], [0.8888888888888888, \"#fdca26\"], [1.0, \"#f0f921\"]], \"type\": \"histogram2dcontour\"}], \"mesh3d\": [{\"colorbar\": {\"outlinewidth\": 0, \"ticks\": \"\"}, \"type\": \"mesh3d\"}], \"parcoords\": [{\"line\": {\"colorbar\": {\"outlinewidth\": 0, \"ticks\": \"\"}}, \"type\": \"parcoords\"}], \"scatter\": [{\"marker\": {\"colorbar\": {\"outlinewidth\": 0, \"ticks\": \"\"}}, \"type\": \"scatter\"}], \"scatter3d\": [{\"line\": {\"colorbar\": {\"outlinewidth\": 0, \"ticks\": \"\"}}, \"marker\": {\"colorbar\": {\"outlinewidth\": 0, \"ticks\": \"\"}}, \"type\": \"scatter3d\"}], \"scattercarpet\": [{\"marker\": {\"colorbar\": {\"outlinewidth\": 0, \"ticks\": \"\"}}, \"type\": \"scattercarpet\"}], \"scattergeo\": [{\"marker\": {\"colorbar\": {\"outlinewidth\": 0, \"ticks\": \"\"}}, \"type\": \"scattergeo\"}], \"scattergl\": [{\"marker\": {\"colorbar\": {\"outlinewidth\": 0, \"ticks\": \"\"}}, \"type\": \"scattergl\"}], \"scattermapbox\": [{\"marker\": {\"colorbar\": {\"outlinewidth\": 0, \"ticks\": \"\"}}, \"type\": \"scattermapbox\"}], \"scatterpolar\": [{\"marker\": {\"colorbar\": {\"outlinewidth\": 0, \"ticks\": \"\"}}, \"type\": \"scatterpolar\"}], \"scatterpolargl\": [{\"marker\": {\"colorbar\": {\"outlinewidth\": 0, \"ticks\": \"\"}}, \"type\": \"scatterpolargl\"}], \"scatterternary\": [{\"marker\": {\"colorbar\": {\"outlinewidth\": 0, \"ticks\": \"\"}}, \"type\": \"scatterternary\"}], \"surface\": [{\"colorbar\": {\"outlinewidth\": 0, \"ticks\": \"\"}, \"colorscale\": [[0.0, \"#0d0887\"], [0.1111111111111111, \"#46039f\"], [0.2222222222222222, \"#7201a8\"], [0.3333333333333333, \"#9c179e\"], [0.4444444444444444, \"#bd3786\"], [0.5555555555555556, \"#d8576b\"], [0.6666666666666666, \"#ed7953\"], [0.7777777777777778, \"#fb9f3a\"], [0.8888888888888888, \"#fdca26\"], [1.0, \"#f0f921\"]], \"type\": \"surface\"}], \"table\": [{\"cells\": {\"fill\": {\"color\": \"#EBF0F8\"}, \"line\": {\"color\": \"white\"}}, \"header\": {\"fill\": {\"color\": \"#C8D4E3\"}, \"line\": {\"color\": \"white\"}}, \"type\": \"table\"}]}, \"layout\": {\"annotationdefaults\": {\"arrowcolor\": \"#2a3f5f\", \"arrowhead\": 0, \"arrowwidth\": 1}, \"colorscale\": {\"diverging\": [[0, \"#8e0152\"], [0.1, \"#c51b7d\"], [0.2, \"#de77ae\"], [0.3, \"#f1b6da\"], [0.4, \"#fde0ef\"], [0.5, \"#f7f7f7\"], [0.6, \"#e6f5d0\"], [0.7, \"#b8e186\"], [0.8, \"#7fbc41\"], [0.9, \"#4d9221\"], [1, \"#276419\"]], \"sequential\": [[0.0, \"#0d0887\"], [0.1111111111111111, \"#46039f\"], [0.2222222222222222, \"#7201a8\"], [0.3333333333333333, \"#9c179e\"], [0.4444444444444444, \"#bd3786\"], [0.5555555555555556, \"#d8576b\"], [0.6666666666666666, \"#ed7953\"], [0.7777777777777778, \"#fb9f3a\"], [0.8888888888888888, \"#fdca26\"], [1.0, \"#f0f921\"]], \"sequentialminus\": [[0.0, \"#0d0887\"], [0.1111111111111111, \"#46039f\"], [0.2222222222222222, \"#7201a8\"], [0.3333333333333333, \"#9c179e\"], [0.4444444444444444, \"#bd3786\"], [0.5555555555555556, \"#d8576b\"], [0.6666666666666666, \"#ed7953\"], [0.7777777777777778, \"#fb9f3a\"], [0.8888888888888888, \"#fdca26\"], [1.0, \"#f0f921\"]]}, \"colorway\": [\"#636efa\", \"#EF553B\", \"#00cc96\", \"#ab63fa\", \"#FFA15A\", \"#19d3f3\", \"#FF6692\", \"#B6E880\", \"#FF97FF\", \"#FECB52\"], \"font\": {\"color\": \"#2a3f5f\"}, \"geo\": {\"bgcolor\": \"white\", \"lakecolor\": \"white\", \"landcolor\": \"#E5ECF6\", \"showlakes\": true, \"showland\": true, \"subunitcolor\": \"white\"}, \"hoverlabel\": {\"align\": \"left\"}, \"hovermode\": \"closest\", \"mapbox\": {\"style\": \"light\"}, \"paper_bgcolor\": \"white\", \"plot_bgcolor\": \"#E5ECF6\", \"polar\": {\"angularaxis\": {\"gridcolor\": \"white\", \"linecolor\": \"white\", \"ticks\": \"\"}, \"bgcolor\": \"#E5ECF6\", \"radialaxis\": {\"gridcolor\": \"white\", \"linecolor\": \"white\", \"ticks\": \"\"}}, \"scene\": {\"xaxis\": {\"backgroundcolor\": \"#E5ECF6\", \"gridcolor\": \"white\", \"gridwidth\": 2, \"linecolor\": \"white\", \"showbackground\": true, \"ticks\": \"\", \"zerolinecolor\": \"white\"}, \"yaxis\": {\"backgroundcolor\": \"#E5ECF6\", \"gridcolor\": \"white\", \"gridwidth\": 2, \"linecolor\": \"white\", \"showbackground\": true, \"ticks\": \"\", \"zerolinecolor\": \"white\"}, \"zaxis\": {\"backgroundcolor\": \"#E5ECF6\", \"gridcolor\": \"white\", \"gridwidth\": 2, \"linecolor\": \"white\", \"showbackground\": true, \"ticks\": \"\", \"zerolinecolor\": \"white\"}}, \"shapedefaults\": {\"line\": {\"color\": \"#2a3f5f\"}}, \"ternary\": {\"aaxis\": {\"gridcolor\": \"white\", \"linecolor\": \"white\", \"ticks\": \"\"}, \"baxis\": {\"gridcolor\": \"white\", \"linecolor\": \"white\", \"ticks\": \"\"}, \"bgcolor\": \"#E5ECF6\", \"caxis\": {\"gridcolor\": \"white\", \"linecolor\": \"white\", \"ticks\": \"\"}}, \"title\": {\"x\": 0.05}, \"xaxis\": {\"automargin\": true, \"gridcolor\": \"white\", \"linecolor\": \"white\", \"ticks\": \"\", \"zerolinecolor\": \"white\", \"zerolinewidth\": 2}, \"yaxis\": {\"automargin\": true, \"gridcolor\": \"white\", \"linecolor\": \"white\", \"ticks\": \"\", \"zerolinecolor\": \"white\", \"zerolinewidth\": 2}}}, \"title\": {\"text\": \"Grandes gares TGV Fran\\u00e7aises\"}},\n",
       "                        {\"responsive\": true}\n",
       "                    ).then(function(){\n",
       "                            \n",
       "var gd = document.getElementById('90d51288-319d-448a-a7d0-1f7f7e2516b7');\n",
       "var x = new MutationObserver(function (mutations, observer) {{\n",
       "        var display = window.getComputedStyle(gd).display;\n",
       "        if (!display || display === 'none') {{\n",
       "            console.log([gd, 'removed!']);\n",
       "            Plotly.purge(gd);\n",
       "            observer.disconnect();\n",
       "        }}\n",
       "}});\n",
       "\n",
       "// Listen for the removal of the full notebook cells\n",
       "var notebookContainer = gd.closest('#notebook-container');\n",
       "if (notebookContainer) {{\n",
       "    x.observe(notebookContainer, {childList: true});\n",
       "}}\n",
       "\n",
       "// Listen for the clearing of the current output cell\n",
       "var outputEl = gd.closest('.output');\n",
       "if (outputEl) {{\n",
       "    x.observe(outputEl, {childList: true});\n",
       "}}\n",
       "\n",
       "                        })\n",
       "                };\n",
       "                });\n",
       "            </script>\n",
       "        </div>"
      ]
     },
     "metadata": {},
     "output_type": "display_data"
    }
   ],
   "source": [
    "scale = 0.1\n",
    "tmp['text'] = tmp['nbr_trains_annules'].apply(str)  + '  -  ' + tmp['gare_depart'].apply(str)\n",
    "\n",
    "# Création des données\n",
    "fig = go.Figure(\n",
    "    data=go.Scattergeo(\n",
    "        lon = tmp['longitude'],\n",
    "        lat = tmp['latitude'],\n",
    "        text = tmp['text'],\n",
    "        #mode = 'markers',\n",
    "        marker = dict(\n",
    "            size = tmp['nbr_trains_annules']*scale,\n",
    "            #color = colors[i],\n",
    "            line_color='rgb(40,40,40)',\n",
    "            line_width=0.5,\n",
    "            sizemode = 'area'\n",
    "            )\n",
    "        )\n",
    "    )\n",
    "            \n",
    "# Création de la figure\n",
    "fig.update_layout(\n",
    "        title = 'Grandes gares TGV Françaises',\n",
    "        geo = geo_france\n",
    "    )\n",
    "\n",
    "# Affichage\n",
    "fig.show()"
   ]
  },
  {
   "cell_type": "code",
   "execution_count": 95,
   "metadata": {
    "ExecuteTime": {
     "end_time": "2019-10-20T14:28:49.485053Z",
     "start_time": "2019-10-20T14:28:49.452289Z"
    }
   },
   "outputs": [],
   "source": []
  },
  {
   "cell_type": "code",
   "execution_count": null,
   "metadata": {},
   "outputs": [],
   "source": []
  }
 ],
 "metadata": {
  "kernelspec": {
   "display_name": "Python 3",
   "language": "python",
   "name": "python3"
  },
  "language_info": {
   "codemirror_mode": {
    "name": "ipython",
    "version": 3
   },
   "file_extension": ".py",
   "mimetype": "text/x-python",
   "name": "python",
   "nbconvert_exporter": "python",
   "pygments_lexer": "ipython3",
   "version": "3.7.3"
  },
  "toc": {
   "base_numbering": 1,
   "nav_menu": {},
   "number_sections": true,
   "sideBar": true,
   "skip_h1_title": false,
   "title_cell": "Table of Contents",
   "title_sidebar": "Contents",
   "toc_cell": false,
   "toc_position": {},
   "toc_section_display": true,
   "toc_window_display": false
  },
  "varInspector": {
   "cols": {
    "lenName": 16,
    "lenType": 16,
    "lenVar": 40
   },
   "kernels_config": {
    "python": {
     "delete_cmd_postfix": "",
     "delete_cmd_prefix": "del ",
     "library": "var_list.py",
     "varRefreshCmd": "print(var_dic_list())"
    },
    "r": {
     "delete_cmd_postfix": ") ",
     "delete_cmd_prefix": "rm(",
     "library": "var_list.r",
     "varRefreshCmd": "cat(var_dic_list()) "
    }
   },
   "types_to_exclude": [
    "module",
    "function",
    "builtin_function_or_method",
    "instance",
    "_Feature"
   ],
   "window_display": false
  }
 },
 "nbformat": 4,
 "nbformat_minor": 4
}
